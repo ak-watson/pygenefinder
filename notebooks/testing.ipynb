{
 "cells": [
  {
   "cell_type": "code",
   "execution_count": 1,
   "metadata": {},
   "outputs": [],
   "source": [
    "import sys,os,subprocess,glob\n",
    "import pandas as pd\n",
    "import numpy as np\n",
    "from Bio.SeqRecord import SeqRecord\n",
    "from Bio.Seq import Seq\n",
    "from Bio import SeqIO\n",
    "import urllib.request\n",
    "sys.path.append('../')\n",
    "from pyamrfinder import tools, app"
   ]
  },
  {
   "cell_type": "code",
   "execution_count": 2,
   "metadata": {},
   "outputs": [],
   "source": [
    "def fetch_sequence_db(name='card'):\n",
    "    \"\"\"get sequences\"\"\"\n",
    "    \n",
    "    path = '../pyamrfinder/data/'\n",
    "    if name == 'card':\n",
    "        url = 'https://github.com/tseemann/abricate/raw/master/db/card/sequences'\n",
    "    elif name == 'resfinder':\n",
    "        url = 'https://raw.githubusercontent.com/tseemann/abricate/master/db/resfinder/sequences'\n",
    "    filename = os.path.join(path,\"%s.fa\" %name)\n",
    "    if not os.path.exists(filename):\n",
    "        urllib.request.urlretrieve(url, filename)\n",
    "    return\n",
    "\n",
    "fetch_sequence_db('resfinder')"
   ]
  },
  {
   "cell_type": "code",
   "execution_count": null,
   "metadata": {},
   "outputs": [],
   "source": [
    "fname='/local/abricate/db/card/sequences'\n",
    "f=open(fname,'r')\n",
    "for i in f.readlines():\n",
    "\n",
    "sp=SeqIO.parse(handle=f,format='fasta')\n",
    "seqs=[]\n",
    "print (seqs)"
   ]
  },
  {
   "cell_type": "code",
   "execution_count": 6,
   "metadata": {},
   "outputs": [],
   "source": [
    "def make_blast_database(filenames):\n",
    "    \"\"\"Make blast dbs of multiple input files\"\"\"\n",
    "\n",
    "    rec=[]\n",
    "    for n in filenames:\n",
    "        seqs = list(SeqIO.parse(n,'fasta'))\n",
    "        for s in seqs:\n",
    "            s.id = n + '~' + s.id\n",
    "        rec.extend(seqs)\n",
    "    #ref = list(SeqIO.parse('genomes/ecoli_k12.fa','fasta'))\n",
    "    #ref[0].id = 'ecoli_k12~1'\n",
    "    #rec.extend(ref)\n",
    "    SeqIO.write(rec, 'out.fasta', 'fasta')\n",
    "    cmd = 'makeblastdb -dbtype nucl -in out.fasta'\n",
    "    subprocess.check_output(cmd, shell=True)\n",
    "    return\n",
    "\n",
    "make_blast_database(['../test_files/RF15B.fa'])"
   ]
  },
  {
   "cell_type": "code",
   "execution_count": 4,
   "metadata": {},
   "outputs": [
    {
     "name": "stdout",
     "output_type": "stream",
     "text": [
      "blastn -out tempseq_blast.txt -outfmt \"6 qseqid sseqid qseq sseq pident qcovs length mismatch gapopen qstart qend sstart send evalue bitscore stitle\" -query tempseq.fa -db scaffolds.fasta -evalue 0.1 -max_target_seqs 100 -num_threads 2\n"
     ]
    }
   ],
   "source": [
    "def run_blast(db='card', ident=90, coverage=.75):\n",
    "    \"\"\"blast card seqs\"\"\"\n",
    "\n",
    "    path = '../pyamrfinder/data/%s.fa' %db\n",
    "    dbseqs = list(SeqIO.parse(path,'fasta'))  \n",
    "    bl = tools.blast_sequences('scaffolds.fasta', dbseqs, maxseqs=100, evalue=.1,\n",
    "                               cmd='blastn', show_cmd=True)\n",
    "    #print (bl[:5])\n",
    "    bl['qlength'] = bl.sequence.str.len()\n",
    "    bl['coverage'] = bl.length/bl.qlength\n",
    "    bl = bl[bl.coverage>coverage]\n",
    "    bl = bl[bl.pident>ident]\n",
    "    bl['id'] = bl.sseqid.apply(lambda x: x.split('~')[0],1)\n",
    "    bl['contig'] = bl.sseqid.apply(lambda x: x.split('~')[1],1)\n",
    "    bl['gene'] = bl['qseqid'].apply(lambda x: x.split('~~~')[1],1)\n",
    "    #print (bl)\n",
    "    cols = ['qseqid','sseqid','pident','sstart','send','coverage','contig','gene','id']\n",
    "    bl = bl[cols]\n",
    "    return bl\n",
    "\n",
    "bl = run_blast('resfinder')"
   ]
  },
  {
   "cell_type": "code",
   "execution_count": 26,
   "metadata": {},
   "outputs": [
    {
     "data": {
      "text/html": [
       "<div>\n",
       "<style scoped>\n",
       "    .dataframe tbody tr th:only-of-type {\n",
       "        vertical-align: middle;\n",
       "    }\n",
       "\n",
       "    .dataframe tbody tr th {\n",
       "        vertical-align: top;\n",
       "    }\n",
       "\n",
       "    .dataframe thead th {\n",
       "        text-align: right;\n",
       "    }\n",
       "</style>\n",
       "<table border=\"1\" class=\"dataframe\">\n",
       "  <thead>\n",
       "    <tr style=\"text-align: right;\">\n",
       "      <th></th>\n",
       "      <th>qseqid</th>\n",
       "      <th>sseqid</th>\n",
       "      <th>pident</th>\n",
       "      <th>sstart</th>\n",
       "      <th>send</th>\n",
       "      <th>coverage</th>\n",
       "      <th>contig</th>\n",
       "      <th>gene</th>\n",
       "      <th>id</th>\n",
       "    </tr>\n",
       "  </thead>\n",
       "  <tbody>\n",
       "    <tr>\n",
       "      <th>0</th>\n",
       "      <td>resfinder~~~aac(3)-IV_1~~~DQ241380~~~Gentamici...</td>\n",
       "      <td>../test_files/RF15B.fa~NODE_47_length_1709_cov...</td>\n",
       "      <td>100.000</td>\n",
       "      <td>1</td>\n",
       "      <td>629</td>\n",
       "      <td>0.809524</td>\n",
       "      <td>NODE_47_length_1709_cov_9.27813</td>\n",
       "      <td>aac(3)-IV_1</td>\n",
       "      <td>../test_files/RF15B.fa</td>\n",
       "    </tr>\n",
       "    <tr>\n",
       "      <th>2</th>\n",
       "      <td>resfinder~~~aac(3)-IVa_1~~~X01385~~~Gentamicin...</td>\n",
       "      <td>../test_files/RF15B.fa~NODE_47_length_1709_cov...</td>\n",
       "      <td>99.843</td>\n",
       "      <td>1</td>\n",
       "      <td>637</td>\n",
       "      <td>0.811705</td>\n",
       "      <td>NODE_47_length_1709_cov_9.27813</td>\n",
       "      <td>aac(3)-IVa_1</td>\n",
       "      <td>../test_files/RF15B.fa</td>\n",
       "    </tr>\n",
       "    <tr>\n",
       "      <th>4</th>\n",
       "      <td>resfinder~~~aadA11_2~~~AJ567827~~~Streptomycin</td>\n",
       "      <td>../test_files/RF15B.fa~NODE_25_length_25084_co...</td>\n",
       "      <td>92.785</td>\n",
       "      <td>18320</td>\n",
       "      <td>17534</td>\n",
       "      <td>0.997475</td>\n",
       "      <td>NODE_25_length_25084_cov_86.3603</td>\n",
       "      <td>aadA11_2</td>\n",
       "      <td>../test_files/RF15B.fa</td>\n",
       "    </tr>\n",
       "  </tbody>\n",
       "</table>\n",
       "</div>"
      ],
      "text/plain": [
       "                                              qseqid  \\\n",
       "0  resfinder~~~aac(3)-IV_1~~~DQ241380~~~Gentamici...   \n",
       "2  resfinder~~~aac(3)-IVa_1~~~X01385~~~Gentamicin...   \n",
       "4     resfinder~~~aadA11_2~~~AJ567827~~~Streptomycin   \n",
       "\n",
       "                                              sseqid   pident  sstart   send  \\\n",
       "0  ../test_files/RF15B.fa~NODE_47_length_1709_cov...  100.000       1    629   \n",
       "2  ../test_files/RF15B.fa~NODE_47_length_1709_cov...   99.843       1    637   \n",
       "4  ../test_files/RF15B.fa~NODE_25_length_25084_co...   92.785   18320  17534   \n",
       "\n",
       "   coverage                            contig          gene  \\\n",
       "0  0.809524   NODE_47_length_1709_cov_9.27813   aac(3)-IV_1   \n",
       "2  0.811705   NODE_47_length_1709_cov_9.27813  aac(3)-IVa_1   \n",
       "4  0.997475  NODE_25_length_25084_cov_86.3603      aadA11_2   \n",
       "\n",
       "                       id  \n",
       "0  ../test_files/RF15B.fa  \n",
       "2  ../test_files/RF15B.fa  \n",
       "4  ../test_files/RF15B.fa  "
      ]
     },
     "execution_count": 26,
     "metadata": {},
     "output_type": "execute_result"
    }
   ],
   "source": [
    "bl[:3]"
   ]
  },
  {
   "cell_type": "code",
   "execution_count": 92,
   "metadata": {},
   "outputs": [],
   "source": [
    "def find_gene_hits(res, gene, filename, db='card'):\n",
    "    \"\"\"Get blast hit results\"\"\"\n",
    "\n",
    "    path = '../pyamrfinder/data/%s.fa' %db\n",
    "    #dbseqs = SeqIO.to_dict(SeqIO.parse(path,'fasta'))\n",
    "    dbseqs = tools.fasta_to_dataframe(path)\n",
    "    dbseqs['gene'] = dbseqs.description.apply(lambda x: x.split('~~~')[1],1)\n",
    "    #print (dbseqs)\n",
    "    x = res[res.gene==gene]\n",
    "    found=[]\n",
    "    hits = []\n",
    "    for i,r in x.iterrows():\n",
    "        name=r.id\n",
    "        #if name not in isolates: continue\n",
    "        seqs = SeqIO.to_dict(SeqIO.parse(filename,'fasta'))\n",
    "        node = r.contig\n",
    "        if r.sstart<r.send:\n",
    "            s = seqs[node].seq[r.sstart:r.send]\n",
    "        else:\n",
    "            s = seqs[node].seq[r.send:r.sstart].reverse_complement()\n",
    "\n",
    "        s = SeqRecord(id=name,seq=s)\n",
    "        found.append(s)\n",
    "        print (name, r.gene, r['coverage'], r['pident'], len(s), node)\n",
    "        #add card seq\n",
    "        hits.append(seqs[node])\n",
    "\n",
    "    row = dbseqs[dbseqs.gene==gene].iloc[0]\n",
    "    print (row)\n",
    "    found.append(SeqRecord(id=row['name'],seq=Seq(row.sequence)))\n",
    "    seqfile = 'temp.fa'\n",
    "    SeqIO.write(found,seqfile,'fasta')\n",
    "    SeqIO.write(hits,'contigs.fa','fasta')\n",
    "    #maaft_alignment(seqfile)\n",
    "    aln = tools.clustal_alignment(seqfile)\n",
    "    print (aln)\n",
    "    return\n"
   ]
  },
  {
   "cell_type": "code",
   "execution_count": 93,
   "metadata": {},
   "outputs": [
    {
     "name": "stdout",
     "output_type": "stream",
     "text": [
      "../test_files/RF15B.fa aac(3)-IV_1 0.8095238095238095 100.0 628 NODE_47_length_1709_cov_9.27813\n",
      "name           resfinder~~~aac(3)-IV_1~~~DQ241380~~~Gentamici...\n",
      "sequence       GTGCAATACGAATGGCGAAAAGCCGAGCTCATCGGTCAGCTTCTCA...\n",
      "description    resfinder~~~aac(3)-IV_1~~~DQ241380~~~Gentamici...\n",
      "type                                                         CDS\n",
      "gene                                                 aac(3)-IV_1\n",
      "Name: 70, dtype: object\n",
      "SingleLetterAlphabet() alignment with 2 rows and 777 columns\n",
      "--------------------------------------------...TGA ../test_files/RF15B.fa\n",
      "GTGCAATACGAATGGCGAAAAGCCGAGCTCATCGGTCAGCTTCT...TGA resfinder~~~aac_3_-IV_1~~~DQ24\n"
     ]
    }
   ],
   "source": [
    "find_gene_hits(bl, 'aac(3)-IV_1', '../test_files/RF15B.fa', 'resfinder')"
   ]
  },
  {
   "cell_type": "code",
   "execution_count": null,
   "metadata": {},
   "outputs": [],
   "source": []
  }
 ],
 "metadata": {
  "kernelspec": {
   "display_name": "Python 3",
   "language": "python",
   "name": "python3"
  },
  "language_info": {
   "codemirror_mode": {
    "name": "ipython",
    "version": 3
   },
   "file_extension": ".py",
   "mimetype": "text/x-python",
   "name": "python",
   "nbconvert_exporter": "python",
   "pygments_lexer": "ipython3",
   "version": "3.7.5"
  }
 },
 "nbformat": 4,
 "nbformat_minor": 4
}

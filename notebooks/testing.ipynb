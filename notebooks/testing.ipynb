{
 "cells": [
  {
   "cell_type": "markdown",
   "metadata": {},
   "source": [
    "## testing for pygenefinder\n",
    "\n",
    "to do:\n",
    "\n",
    "* nearest taxon for species with 16S blast results\n",
    "* add custom sequences for blast search\n",
    "* clustermap of features presence/absence\n"
   ]
  },
  {
   "cell_type": "code",
   "execution_count": 1,
   "metadata": {},
   "outputs": [],
   "source": [
    "import sys,os,subprocess,glob,tempfile,time\n",
    "import re\n",
    "from importlib import reload\n",
    "import pandas as pd\n",
    "pd.set_option('display.max_columns', 14)\n",
    "pd.set_option('display.max_colwidth', 150)\n",
    "pd.set_option('display.width', 180)\n",
    "import numpy as np\n",
    "import pylab as plt\n",
    "from Bio.SeqRecord import SeqRecord\n",
    "from Bio.Seq import Seq\n",
    "from Bio import SeqIO\n",
    "from Bio.SeqFeature import SeqFeature, FeatureLocation\n",
    "from Bio.Alphabet import generic_dna\n",
    "import urllib.request\n",
    "sys.path.append('../')\n",
    "from pygenefinder import tools, app\n",
    "datadir = '../pygenefinder/data/'\n",
    "dbdir = app.dbdir\n",
    "tempdir = tempfile.gettempdir()\n",
    "home = os.path.expanduser(\"~\")\n",
    "config_path = os.path.join(home,'.config/pygenefinder')\n",
    "prokkadbdir = app.prokkadbdir\n",
    "hmmdir = os.path.join(config_path, 'hmms')\n",
    "\n",
    "links = app.links"
   ]
  },
  {
   "cell_type": "code",
   "execution_count": null,
   "metadata": {},
   "outputs": [],
   "source": [
    "reload(app)\n",
    "app.fetch_binaries()"
   ]
  },
  {
   "cell_type": "code",
   "execution_count": 63,
   "metadata": {},
   "outputs": [],
   "source": [
    "un = pd.read_csv('../uniprot-reviewed_yes.tab',sep='\\t')"
   ]
  },
  {
   "cell_type": "code",
   "execution_count": 15,
   "metadata": {},
   "outputs": [],
   "source": [
    "un['gene'] = un['Gene names'].apply(lambda x: str(x).split(' ')[0], 1)"
   ]
  },
  {
   "cell_type": "code",
   "execution_count": null,
   "metadata": {},
   "outputs": [],
   "source": [
    "';'.join(un['Keywords'][:20]).split(';')"
   ]
  },
  {
   "cell_type": "markdown",
   "metadata": {},
   "source": [
    "## aragorn"
   ]
  },
  {
   "cell_type": "code",
   "execution_count": 110,
   "metadata": {},
   "outputs": [
    {
     "data": {
      "text/html": [
       "<div>\n",
       "<style scoped>\n",
       "    .dataframe tbody tr th:only-of-type {\n",
       "        vertical-align: middle;\n",
       "    }\n",
       "\n",
       "    .dataframe tbody tr th {\n",
       "        vertical-align: top;\n",
       "    }\n",
       "\n",
       "    .dataframe thead th {\n",
       "        text-align: right;\n",
       "    }\n",
       "</style>\n",
       "<table border=\"1\" class=\"dataframe\">\n",
       "  <thead>\n",
       "    <tr style=\"text-align: right;\">\n",
       "      <th></th>\n",
       "      <th>contig</th>\n",
       "      <th>product</th>\n",
       "      <th>feat_type</th>\n",
       "      <th>start</th>\n",
       "      <th>end</th>\n",
       "      <th>anticodon</th>\n",
       "      <th>strand</th>\n",
       "    </tr>\n",
       "  </thead>\n",
       "  <tbody>\n",
       "    <tr>\n",
       "      <th>0</th>\n",
       "      <td>NODE_1_length_272178_cov_58.4899</td>\n",
       "      <td>tRNA-Leu</td>\n",
       "      <td>tRNA</td>\n",
       "      <td>16210</td>\n",
       "      <td>16295</td>\n",
       "      <td>TAG</td>\n",
       "      <td>-1</td>\n",
       "    </tr>\n",
       "    <tr>\n",
       "      <th>1</th>\n",
       "      <td>NODE_1_length_272178_cov_58.4899</td>\n",
       "      <td>tRNA-Trp</td>\n",
       "      <td>tRNA</td>\n",
       "      <td>16333</td>\n",
       "      <td>16407</td>\n",
       "      <td>CCA</td>\n",
       "      <td>-1</td>\n",
       "    </tr>\n",
       "    <tr>\n",
       "      <th>2</th>\n",
       "      <td>NODE_1_length_272178_cov_58.4899</td>\n",
       "      <td>tRNA-Leu</td>\n",
       "      <td>tRNA</td>\n",
       "      <td>16441</td>\n",
       "      <td>16526</td>\n",
       "      <td>TAG</td>\n",
       "      <td>-1</td>\n",
       "    </tr>\n",
       "    <tr>\n",
       "      <th>3</th>\n",
       "      <td>NODE_1_length_272178_cov_58.4899</td>\n",
       "      <td>tRNA-Leu</td>\n",
       "      <td>tRNA</td>\n",
       "      <td>16906</td>\n",
       "      <td>16992</td>\n",
       "      <td>CAG</td>\n",
       "      <td>-1</td>\n",
       "    </tr>\n",
       "    <tr>\n",
       "      <th>4</th>\n",
       "      <td>NODE_1_length_272178_cov_58.4899</td>\n",
       "      <td>tRNA-Leu</td>\n",
       "      <td>tRNA</td>\n",
       "      <td>17301</td>\n",
       "      <td>17386</td>\n",
       "      <td>TAG</td>\n",
       "      <td>-1</td>\n",
       "    </tr>\n",
       "    <tr>\n",
       "      <th>...</th>\n",
       "      <td>...</td>\n",
       "      <td>...</td>\n",
       "      <td>...</td>\n",
       "      <td>...</td>\n",
       "      <td>...</td>\n",
       "      <td>...</td>\n",
       "      <td>...</td>\n",
       "    </tr>\n",
       "    <tr>\n",
       "      <th>70</th>\n",
       "      <td>NODE_172_length_452_cov_317.597</td>\n",
       "      <td>tRNA-Ala</td>\n",
       "      <td>tRNA</td>\n",
       "      <td>168</td>\n",
       "      <td>244</td>\n",
       "      <td>TGC</td>\n",
       "      <td>1</td>\n",
       "    </tr>\n",
       "    <tr>\n",
       "      <th>71</th>\n",
       "      <td>NODE_190_length_408_cov_124.623</td>\n",
       "      <td>tRNA-Ile</td>\n",
       "      <td>tRNA</td>\n",
       "      <td>43</td>\n",
       "      <td>120</td>\n",
       "      <td>GAT</td>\n",
       "      <td>1</td>\n",
       "    </tr>\n",
       "    <tr>\n",
       "      <th>72</th>\n",
       "      <td>NODE_190_length_408_cov_124.623</td>\n",
       "      <td>tRNA-Ala</td>\n",
       "      <td>tRNA</td>\n",
       "      <td>168</td>\n",
       "      <td>244</td>\n",
       "      <td>TGC</td>\n",
       "      <td>1</td>\n",
       "    </tr>\n",
       "    <tr>\n",
       "      <th>73</th>\n",
       "      <td>NODE_192_length_252_cov_2.264</td>\n",
       "      <td>tRNA-Asp</td>\n",
       "      <td>tRNA</td>\n",
       "      <td>3</td>\n",
       "      <td>80</td>\n",
       "      <td>GTC</td>\n",
       "      <td>1</td>\n",
       "    </tr>\n",
       "    <tr>\n",
       "      <th>74</th>\n",
       "      <td>NODE_192_length_252_cov_2.264</td>\n",
       "      <td>tRNA-Asp</td>\n",
       "      <td>tRNA</td>\n",
       "      <td>128</td>\n",
       "      <td>205</td>\n",
       "      <td>GTC</td>\n",
       "      <td>1</td>\n",
       "    </tr>\n",
       "  </tbody>\n",
       "</table>\n",
       "<p>75 rows × 7 columns</p>\n",
       "</div>"
      ],
      "text/plain": [
       "                              contig   product feat_type  start    end anticodon  strand\n",
       "0   NODE_1_length_272178_cov_58.4899  tRNA-Leu      tRNA  16210  16295       TAG      -1\n",
       "1   NODE_1_length_272178_cov_58.4899  tRNA-Trp      tRNA  16333  16407       CCA      -1\n",
       "2   NODE_1_length_272178_cov_58.4899  tRNA-Leu      tRNA  16441  16526       TAG      -1\n",
       "3   NODE_1_length_272178_cov_58.4899  tRNA-Leu      tRNA  16906  16992       CAG      -1\n",
       "4   NODE_1_length_272178_cov_58.4899  tRNA-Leu      tRNA  17301  17386       TAG      -1\n",
       "..                               ...       ...       ...    ...    ...       ...     ...\n",
       "70   NODE_172_length_452_cov_317.597  tRNA-Ala      tRNA    168    244       TGC       1\n",
       "71   NODE_190_length_408_cov_124.623  tRNA-Ile      tRNA     43    120       GAT       1\n",
       "72   NODE_190_length_408_cov_124.623  tRNA-Ala      tRNA    168    244       TGC       1\n",
       "73     NODE_192_length_252_cov_2.264  tRNA-Asp      tRNA      3     80       GTC       1\n",
       "74     NODE_192_length_252_cov_2.264  tRNA-Asp      tRNA    128    205       GTC       1\n",
       "\n",
       "[75 rows x 7 columns]"
      ]
     },
     "execution_count": 110,
     "metadata": {},
     "output_type": "execute_result"
    }
   ],
   "source": [
    "def aragorn(infile):\n",
    "    cmd = 'aragorn -l -gcbact -t -w %s -o /tmp/aragorn.txt' %infile\n",
    "    tmp = subprocess.check_output(cmd, shell=True)\n",
    "    df = tools.read_aragorn('/tmp/aragorn.txt')\n",
    "    return df\n",
    "\n",
    "df = aragorn('../ana_files/RF15A.fa')\n",
    "df"
   ]
  },
  {
   "cell_type": "markdown",
   "metadata": {},
   "source": [
    "## hmmer"
   ]
  },
  {
   "cell_type": "code",
   "execution_count": null,
   "metadata": {},
   "outputs": [],
   "source": [
    "def hmmer(infile, threads=4, hmm_file=None):\n",
    "    \"\"\"Run hmmer\"\"\"\n",
    "    \n",
    "    def get_contig(x):\n",
    "        return ('_').join(x.split('_')[:-1])\n",
    "    if getattr(sys, 'frozen', False):\n",
    "        hmmpresscmd = tools.resource_path('bin/hmmpress.exe')\n",
    "        hmmscancmd = tools.resource_path('bin/hmmscan.exe')\n",
    "    else:\n",
    "        hmmpresscmd = 'hmmpress'\n",
    "        hmmscancmd = 'hmmscan'    \n",
    "    df = tools.fasta_to_dataframe(infile)\n",
    "    fetch_sequence_from_url('HAMAP.hmm', hmmdir, ext='')\n",
    "    db = os.path.join(hmmdir,'HAMAP.hmm')\n",
    "    cmd = '%s -f %s' %(hmmpresscmd,db)\n",
    "    tmp = subprocess.check_output(cmd, shell=True)\n",
    "    outfile = os.path.join(tempdir, 'hmm.txt')\n",
    "    cmd = \"{c} --noali --notextw --acc -E 1e-4 --cpu {t} --tblout {o} -o hmm.out {db} {i}\".format(\n",
    "                                c=hmmscancmd,t=threads,db=db,i=infile,o=outfile)\n",
    "    print (cmd)\n",
    "    tmp = subprocess.check_output(cmd, shell=True)\n",
    "    h = tools.read_hmmer3(outfile)\n",
    "    #print (df)\n",
    "    df = h.merge(df,on='name',how='left')\n",
    "    #print (df[:5])\n",
    "    #get coords from prodigal fasta heading if available\n",
    "    df[['start','end','strand']] = df.description.apply(get_prodigal_coords,1)\n",
    "    df['contig'] = df['name'].apply(get_contig)\n",
    "    return df\n",
    "\n",
    "h=hmmer('../prodigal.faa', 10)\n",
    "h.iloc[0]"
   ]
  },
  {
   "cell_type": "code",
   "execution_count": 5,
   "metadata": {},
   "outputs": [
    {
     "name": "stdout",
     "output_type": "stream",
     "text": [
      "/home/damien/.config/pygenefinder/db/resfinder.fa\n"
     ]
    }
   ],
   "source": [
    "def fetch_sequence_from_url(name='card', path=None, ext='.fa'):\n",
    "    \"\"\"get sequences\"\"\"\n",
    "    \n",
    "    if path == None:\n",
    "        path = dbdir\n",
    "    if not os.path.exists(path):\n",
    "        os.makedirs(path)\n",
    "\n",
    "    if name in links:\n",
    "        url = links[name]\n",
    "    else:\n",
    "        print('no such name')\n",
    "        return        \n",
    "\n",
    "    filename = os.path.join(path,\"%s%s\" %(name,ext))\n",
    "    print (filename)\n",
    "    if not os.path.exists(filename):\n",
    "        try:\n",
    "            urllib.request.urlretrieve(url, filename)\n",
    "        except:\n",
    "            print ('no such URL?')\n",
    "    return\n",
    "\n",
    "fetch_sequence_from_url('resfinder')"
   ]
  },
  {
   "cell_type": "code",
   "execution_count": 3,
   "metadata": {},
   "outputs": [],
   "source": [
    "def make_target_database(filenames):\n",
    "    \"\"\"Make blast dbs of multiple input files\"\"\"\n",
    "\n",
    "    rec=[]\n",
    "    for n in filenames:\n",
    "        seqs = list(SeqIO.parse(n,'fasta'))\n",
    "        for s in seqs:\n",
    "            s.id = n + '~' + s.id\n",
    "        rec.extend(seqs)\n",
    "\n",
    "    targfile = os.path.join(tempdir, 'targets.fasta')\n",
    "    SeqIO.write(rec, targfile, 'fasta')\n",
    "    make_blast_database(targfile)\n",
    "    return\n",
    "\n",
    "def make_blast_database(filename, dbtype='nucl'):\n",
    "    \"\"\"Create a blast db from fasta file\"\"\"\n",
    "    \n",
    "    cmd = 'makeblastdb'\n",
    "    #if frozen app\n",
    "    if getattr(sys, 'frozen', False):\n",
    "        print ('bundled app in windows')\n",
    "        cmd = tools.resource_path('bin/makeblastdb.exe')\n",
    "\n",
    "    cline = '%s -dbtype %s -in %s' %(cmd,dbtype,filename)\n",
    "    subprocess.check_output(cline, shell=True)\n",
    "    return\n",
    "\n",
    "make_target_database(['../test_files/RF15B.fa','../test_files/RF15A.fa'])"
   ]
  },
  {
   "cell_type": "markdown",
   "metadata": {},
   "source": [
    "## prokka type annotation\n",
    "\n",
    "1. run prodigal \n",
    "2. blast output protein seqs \n",
    "3. select best hits\n",
    "5. run aragorn\n",
    "6. run hmmer\n",
    "7. merge results to dataframe\n",
    "8. make genbank from results\n",
    "\n",
    "* https://www.biostars.org/p/79392/\n",
    "* https://www.protocols.io/view/week-4-calling-open-reading-frames-with-prodigal-u-gz3bx8n"
   ]
  },
  {
   "cell_type": "code",
   "execution_count": 112,
   "metadata": {},
   "outputs": [],
   "source": [
    "def prodigal(infile):\n",
    "    \"\"\"Run prodigal\"\"\"\n",
    "\n",
    "    cmd = 'prodigal'\n",
    "    if getattr(sys, 'frozen', False):\n",
    "        cmd = tools.resource_path('bin/prodigal.exe')\n",
    "    #name = os.path.splitext(infile)[0]\n",
    "    name = os.path.join(tempdir,'prodigal')\n",
    "    cmd = '{c} -i {i} -c -m -a {n}.faa -f gff -o {n}.gff -p single'.format(i=infile,c=cmd,n=name)\n",
    "    subprocess.check_output(cmd, shell=True)\n",
    "    resfile = os.path.join(tempdir, 'prodigal.faa')\n",
    "    return resfile\n",
    "\n",
    "def get_prodigal_coords(x):\n",
    "    s = re.split('\\#|\\s',x.replace(' ',''))\n",
    "    coords = [int(i) for i in s[1:4]]\n",
    "    return  pd.Series(coords)\n",
    "\n",
    "def prokka_header_info(x):\n",
    "    s = re.split('~~~',x)\n",
    "    return pd.Series(s)"
   ]
  },
  {
   "cell_type": "code",
   "execution_count": 51,
   "metadata": {},
   "outputs": [],
   "source": [
    "def run_annotation(infile, prefix=None, ident=70, threads=4, kingdom='bacteria', **kwargs):\n",
    "    \"\"\"\n",
    "    Annotate nucelotide sequences (usually a draft assembly with contigs)\n",
    "    using prodigal and blast to prokka seqs. Writes a genbank file to the\n",
    "    same folder.\n",
    "    Args:\n",
    "        prefix: prefix for locus_tags\n",
    "        infile: input fasta file\n",
    "        outfile: output genbank\n",
    "        hmmer: run hmmer\n",
    "    returns:\n",
    "        a list of SeqRecords with the features\n",
    "    \"\"\"\n",
    "\n",
    "    #get simple name for contig\n",
    "    def get_contig(x):\n",
    "        return ('_').join(x.split('_')[:-1])   \n",
    "    if prefix == None:\n",
    "        prefix = app.create_locus_tag(infile)\n",
    "    sprot = 'sprot_%s' %kingdom \n",
    "    dbs = ['IS','amr',sprot]\n",
    "    evalues = [1e-10,1e-100,1e-4]\n",
    "    #run prodigal\n",
    "    resfile = prodigal(infile)\n",
    "    #read in prodigal fasta to dataframe\n",
    "    df = tools.fasta_to_dataframe(resfile)\n",
    "    df[['start','end','strand']] = df.description.apply(get_prodigal_coords,1)\n",
    "    df['feat_type'] = 'CDS'\n",
    "    df['contig'] = df['name'].apply(get_contig)\n",
    "    \n",
    "    #get target seqs\n",
    "    seqs = list(SeqIO.parse(resfile,'fasta'))\n",
    "    #read input file nucleotide seqs\n",
    "    contigs = SeqIO.to_dict(SeqIO.parse(infile,'fasta'))\n",
    "    #print (df[:5])\n",
    "    res = []\n",
    "    i=0\n",
    "    for db in dbs:\n",
    "        app.fetch_sequence_from_url(db, path=prokkadbdir)\n",
    "        #make blast db of prokka proteins\n",
    "        dbname = os.path.join(prokkadbdir,'%s.fa' %db)\n",
    "        tools.make_blast_database(dbname, dbtype='prot')\n",
    "        print ('blasting %s ORFs to %s' %(len(seqs),db))\n",
    "        bl = tools.blast_sequences(dbname, seqs, maxseqs=1, evalue=evalues[i],\n",
    "                                    cmd='blastp', show_cmd=True, threads=threads, **kwargs)\n",
    "        bl = bl[bl.pident>ident]\n",
    "        if len(bl)==0:\n",
    "            i+=1\n",
    "            continue\n",
    "        bl[['protein_id','gene','product','cog']] = bl.stitle.apply(prokka_header_info,1)\n",
    "\n",
    "        cols = ['qseqid','sseqid','pident','sstart','send','protein_id','gene','product']\n",
    "        #print (len(bl))\n",
    "        bl = bl.sort_values(['qseqid','pident'], ascending=False).drop_duplicates(['qseqid'])[cols]\n",
    "        #print (len(bl))\n",
    "\n",
    "        #merge blast result with prodigal sequences\n",
    "        found = df.merge(bl,left_on='name',right_on='qseqid',how='right')\n",
    "        #get remaining sequences with no hits to this db\n",
    "        df = df[~df.name.isin(bl.qseqid)]\n",
    "        #new sequences to blast in the next iteration\n",
    "        seqs = tools.dataframe_to_seqrecords(df, idkey='name')\n",
    "        #print (found)\n",
    "        res.append(found)\n",
    "        print ('%s sequences unassigned' %len(df))\n",
    "        i+=1\n",
    "    #all results together\n",
    "    res = pd.concat(res)    \n",
    "    #print (res) \n",
    "    \n",
    "    #-------------------------------------------------------\n",
    "    #run hmmer on unassigned  \n",
    "    if kingdom == 'bacteria':\n",
    "        print ('running hmmer')\n",
    "        #write unknowns out\n",
    "        SeqIO.write(seqs,'unknowns.fa','fasta')\n",
    "        hmmdf = hmmer('unknowns.fa', threads=threads) \n",
    "        #print (hmmdf.dtypes)\n",
    "        res = pd.concat([res,hmmdf], sort=False)    \n",
    "    \n",
    "    #get tRNAs with aragorn\n",
    "    print ('running aragorn')\n",
    "    arag = aragorn(infile)\n",
    "    #print (arag)\n",
    "    res = pd.concat([res,arag], sort=False)\n",
    "    \n",
    "    #remaining unknowns are hypothetical proteins\n",
    "    unknown = df[~df.name.isin(res.name)].copy()\n",
    "    unknown['product'] = 'hypothetical protein'\n",
    "    res = pd.concat([res,unknown], sort=False)\n",
    "    \n",
    "    #post process dataframe\n",
    "    #res = res.fillna('')\n",
    "    res['translation'] = res.sequence\n",
    "    #res['gene'] = res.gene.fillna('')\n",
    "    res = res.reset_index(drop=True)\n",
    "    \n",
    "    #print (res['product'].value_counts())  \n",
    "    #print (res.dtypes)\n",
    "    \n",
    "    #-------------------------------------------------------\n",
    "    #we then write all found sequences to seqrecord/features\n",
    "    l=1  #counter for assigning locus tags\n",
    "    recs = []\n",
    "    #group by contig and get features for each protein found\n",
    "    for c,df in res.groupby('contig'):\n",
    "        contig = get_contig(c)\n",
    "        #truncated label for writing to genbank\n",
    "        label = ('_').join(c.split('_')[:2])\n",
    "        #print (c, len(df), label)\n",
    "        nucseq = contigs[c].seq\n",
    "        rec = SeqRecord(nucseq)\n",
    "        rec.seq.alphabet = generic_dna\n",
    "        rec.id = label\n",
    "        rec.name = label\n",
    "        rec.COMMENT = 'annotated with pygenefinder'\n",
    "        df = df.sort_values('start')\n",
    "        qcols = ['gene','product','locus_tag','translation']\n",
    "        for i,row in df.iterrows():\n",
    "            row['locus_tag'] = '{p}_{l:05d}'.format(p=prefix,l=l)\n",
    "            row = row.dropna()     \n",
    "            cols = [c for c in qcols if c in row.index]                 \n",
    "            quals = row[cols].to_dict()\n",
    "            #print (quals)\n",
    "            feat = SeqFeature(FeatureLocation(row.start,row.end,row.strand), strand=row.strand,\n",
    "                              type=row.feat_type, qualifiers=quals)\n",
    "            rec.features.append(feat)\n",
    "            l+=1          \n",
    "        recs.append(rec)\n",
    "    return res,recs"
   ]
  },
  {
   "cell_type": "code",
   "execution_count": 52,
   "metadata": {},
   "outputs": [
    {
     "name": "stdout",
     "output_type": "stream",
     "text": [
      "/home/damien/.config/pygenefinder/prokka/IS.fa\n",
      "blasting 3985 ORFs to IS\n",
      "blastp -out tempseq_blast.txt -outfmt \"6 qseqid sseqid qseq sseq pident qcovs length mismatch gapopen qstart qend sstart send evalue bitscore stitle\" -query tempseq.fa -db /home/damien/.config/pygenefinder/prokka/IS.fa -evalue 1e-10 -max_target_seqs 1 -num_threads 12\n",
      "3953 sequences unassigned\n",
      "/home/damien/.config/pygenefinder/prokka/amr.fa\n",
      "blasting 3953 ORFs to amr\n",
      "blastp -out tempseq_blast.txt -outfmt \"6 qseqid sseqid qseq sseq pident qcovs length mismatch gapopen qstart qend sstart send evalue bitscore stitle\" -query tempseq.fa -db /home/damien/.config/pygenefinder/prokka/amr.fa -evalue 1e-100 -max_target_seqs 1 -num_threads 12\n",
      "3949 sequences unassigned\n",
      "/home/damien/.config/pygenefinder/prokka/sprot_bacteria.fa\n",
      "blasting 3949 ORFs to sprot_bacteria\n",
      "blastp -out tempseq_blast.txt -outfmt \"6 qseqid sseqid qseq sseq pident qcovs length mismatch gapopen qstart qend sstart send evalue bitscore stitle\" -query tempseq.fa -db /home/damien/.config/pygenefinder/prokka/sprot_bacteria.fa -evalue 0.0001 -max_target_seqs 1 -num_threads 12\n",
      "1645 sequences unassigned\n",
      "running hmmer\n",
      "/home/damien/.config/pygenefinder/hmms/HAMAP.hmm\n",
      "hmmscan --noali --notextw --acc -E 1e-4 --cpu 12 --tblout hmm.txt -o /tmp/hmm.out /home/damien/.config/pygenefinder/hmms/HAMAP.hmm unknowns.fa\n",
      "running aragorn\n",
      "102.73377394676208\n"
     ]
    }
   ],
   "source": [
    "reload(tools)\n",
    "reload(app)\n",
    "\n",
    "st=time.time()\n",
    "#res,recs = run_annotation('../contigs.fa', threads=10)\n",
    "#res,recs = run_annotation('../viruses/GCA_009858895.3_ASM985889v3_genomic.fna', kingdom='viruses', threads=10)\n",
    "#res,recs = run_annotation('../test_files/GCA_000947895.1.fa', threads=12)\n",
    "res,recs = run_annotation('../ana_files/RF2A.fa', threads=12)\n",
    "print (time.time()-st)\n",
    "tools.recs_to_genbank(recs, 'annot.gbk')"
   ]
  },
  {
   "cell_type": "code",
   "execution_count": 50,
   "metadata": {},
   "outputs": [
    {
     "name": "stdout",
     "output_type": "stream",
     "text": [
      "Index(['name', 'sequence', 'description', 'type', 'start', 'end', 'strand', 'feat_type', 'contig', 'qseqid', 'sseqid', 'pident', 'sstart', 'send', 'protein_id', 'gene', 'product',\n",
      "       'query', 'score', 'evalue', 'EC', 'anticodon', 'translation'],\n",
      "      dtype='object')\n",
      "                   name  start    end gene          contig                           product\n",
      "0     CDHH01000003.1_27  23865  24710       CDHH01000003.1    IS256 family transposase ISRo1\n",
      "1     CDHH01000004.1_36  31732  32511       CDHH01000004.1   ISNCY family transposase ISRjo3\n",
      "2     CDHH01000004.1_37  32501  33178       CDHH01000004.1  ISNCY family transposase ISMav10\n",
      "3      CDHH01000028.1_4   5355   5738       CDHH01000028.1    IS21 family transposase ISMbo1\n",
      "4     CDHH01000029.1_69  68780  70096       CDHH01000029.1   IS607 family transposase IS1539\n",
      "...                 ...    ...    ...  ...             ...                               ...\n",
      "4088  CDHH01000091.1_29  23603  24037  NaN  CDHH01000091.1              hypothetical protein\n",
      "4089  CDHH01000091.1_31  24896  25507  NaN  CDHH01000091.1              hypothetical protein\n",
      "4090   CDHH01000093.1_1    166   1614  NaN  CDHH01000093.1              hypothetical protein\n",
      "4091   CDHH01000093.1_2   1611   1916  NaN  CDHH01000093.1              hypothetical protein\n",
      "4092   CDHH01000094.1_1    348   2036  NaN  CDHH01000094.1              hypothetical protein\n",
      "\n",
      "[4093 rows x 6 columns]\n"
     ]
    }
   ],
   "source": [
    "print (res.columns)\n",
    "print(res[['name', 'start', 'end','gene','contig','product']])"
   ]
  },
  {
   "cell_type": "code",
   "execution_count": null,
   "metadata": {},
   "outputs": [],
   "source": [
    "print (res.contig.unique())\n",
    "for i,df in res[:200].groupby('contig'):\n",
    "    print (i)\n",
    "    plot_segments(df,'start','end')\n",
    "#print (pr)"
   ]
  },
  {
   "cell_type": "code",
   "execution_count": 21,
   "metadata": {},
   "outputs": [],
   "source": [
    "def records_to_fasta(recs, outfile):\n",
    "    \"\"\"Write seqrecords features to a fasta file\"\"\"\n",
    "\n",
    "    handle = open(outfile,'w+')\n",
    "    for rec in recs:\n",
    "        for feat in rec.features:        \n",
    "            quals = feat.qualifiers\n",
    "            SeqIO.write(SeqRecord(Seq(quals['translation']),id=quals['locus_tag']), handle, \"fasta\")\n",
    "    return\n",
    "\n",
    "records_to_fasta(pr, 'test.faa')"
   ]
  },
  {
   "cell_type": "code",
   "execution_count": null,
   "metadata": {},
   "outputs": [],
   "source": [
    "reload(tools)\n",
    "df=tools.genbank_to_dataframe('../amr_results/ecoli_HSP38.gbk')"
   ]
  },
  {
   "cell_type": "code",
   "execution_count": 119,
   "metadata": {},
   "outputs": [
    {
     "name": "stdout",
     "output_type": "stream",
     "text": [
      "['/home/farrell/gitprojects/pygenefinder/pygenefinder/data/ecoli_k12.fa']\n",
      "blasting 20336 sequences\n",
      "blastn -out tempseq_blast.txt -outfmt \"6 qseqid sseqid qseq sseq pident qcovs length mismatch gapopen qstart qend sstart send evalue bitscore stitle\" -query tempseq.fa -db /tmp/targets.fasta -evalue 0.01 -max_target_seqs 5 -num_threads 10\n",
      "6000\n",
      "2999\n"
     ]
    }
   ],
   "source": [
    "reload(app)\n",
    "reload(tools)\n",
    "def find_genes(target, ref='card', ident=90, coverage=75, duplicates=False, threads=2, **kwds):\n",
    "    \"\"\"Find ref genes by blasting the target sequences.\n",
    "    Args:\n",
    "        target: target blast database\n",
    "        ref: query sequences to search, e.g. contigs in an assembly\n",
    "        \n",
    "    \"\"\"\n",
    "\n",
    "    path = os.path.join(dbdir,'%s.fa' %ref)\n",
    "    #the AMR db is the query for the blast\n",
    "    queryseqs = list(SeqIO.parse(path,'fasta'))\n",
    "    print ('blasting %s sequences' %len(queryseqs))\n",
    "    bl = tools.blast_sequences(target, queryseqs, maxseqs=5, evalue=.01,\n",
    "                               cmd='blastn', show_cmd=True, threads=int(threads))\n",
    "\n",
    "    bl['qlength'] = bl.sequence.str.len()\n",
    "    bl['coverage'] = bl.length/bl.qlength*100\n",
    "    bl = bl[bl.coverage>coverage]\n",
    "    bl = bl[bl.pident>ident]\n",
    "    bl['filename'] = bl.sseqid.apply(lambda x: x.split('~')[0],1)\n",
    "    bl['id'] = bl.filename.apply(lambda x: os.path.basename(x),1)\n",
    "    bl['contig'] = bl.sseqid.apply(lambda x: x.split('~')[1],1)\n",
    "    try:\n",
    "        bl['gene'] = bl['qseqid'].apply(lambda x: x.split('~~~')[1],1)\n",
    "    except:\n",
    "        bl['gene'] = bl.qseqid\n",
    "\n",
    "    #remove exact and close duplicates\n",
    "    print (len(bl))\n",
    "    bl = bl.sort_values(['contig','bitscore'], ascending=False).drop_duplicates(['contig','sstart','send'])\n",
    "    print (len(bl))\n",
    "    #if duplicates == False:\n",
    "        #dist = 20\n",
    "        #x=bl.sort_values(by=[\"contig\",\"sstart\"],ascending=False)\n",
    "        #print (x[:15][x.columns[:5]])\n",
    "        #unique = x.sstart.diff().abs().fillna(dist)        \n",
    "        #bl = bl[unique>=dist]\n",
    "    cols = ['gene','id','qseqid','pident','coverage','sstart','send','contig','description','filename','bitscore','qcovs','qseq','sseq']\n",
    "    bl = bl[cols]\n",
    "    return bl\n",
    "\n",
    "filenames = glob.glob(os.path.join(app.datadir, '*.fa'))\n",
    "print (filenames[:1])\n",
    "app.make_target_database(filenames[:1])\n",
    "targfile = os.path.join(app.tempdir, 'targets.fasta')\n",
    "bl = find_genes(targfile, 'bacteria.16SrRNA', threads=10)\n",
    "#bl = find_genes(targfile, 'card', threads=10)\n"
   ]
  },
  {
   "cell_type": "code",
   "execution_count": null,
   "metadata": {},
   "outputs": [],
   "source": [
    "cols=['gene','sstart','send','description','bitscore','contig','coverage','pident','qcovs']\n",
    "bl[cols][:20]"
   ]
  },
  {
   "cell_type": "code",
   "execution_count": null,
   "metadata": {},
   "outputs": [],
   "source": [
    "reload(app)\n",
    "reload(tools)\n",
    "def find_genes2(query, ref='card', ident=90, coverage=75, duplicates=False, threads=2, **kwds):\n",
    "    \"\"\"Find ref genes by blasting the target sequences.\n",
    "    Args:\n",
    "        target: target blast database\n",
    "        ref: query sequences to search, e.g. contigs in an assembly\n",
    "        \n",
    "    \"\"\"\n",
    "\n",
    "    targfile = app.make_target_database(os.path.join(dbdir,'%s.fa' %ref))    \n",
    "    queryseqs = list(SeqIO.parse(query,'fasta'))\n",
    "    print ('blasting %s sequences' %len(queryseqs))\n",
    "    bl = tools.blast_sequences(targfile, queryseqs, maxseqs=5, evalue=.01,\n",
    "                               cmd='blastn', show_cmd=True, threads=int(threads))\n",
    "\n",
    "    bl['qlength'] = bl.sequence.str.len()\n",
    "    bl['coverage'] = bl.length/bl.qlength*100\n",
    "    #bl = bl[bl.coverage>coverage]\n",
    "    bl = bl[bl.pident>ident]\n",
    "    #bl = bl.sort_values(['contig','bitscore'], ascending=False).drop_duplicates(['contig','sstart','send'])\n",
    "    return bl\n",
    "\n",
    "ref = 'bacteria.16SrRNA'\n",
    "print (os.path.join(dbdir,'%s.fa' %ref))\n",
    "\n",
    "filenames = glob.glob(os.path.join(app.datadir, '*.fa'))\n",
    "queryfile =  filenames[0]\n",
    "queryfile = '../test_files/RF11.fa'\n",
    "bl = find_genes2(queryfile, 'bacteria.16SrRNA', threads=10)\n",
    "print (bl.columns)\n",
    "print (bl[cols])"
   ]
  },
  {
   "cell_type": "code",
   "execution_count": null,
   "metadata": {},
   "outputs": [],
   "source": [
    "feats = tools.genbank_to_dataframe('annot.gbk').sort_values('start').reset_index()\n",
    "print (len(feats))\n",
    "#print (feats)\n",
    "#find interval overlaps to determine duplicate gene hits inside contig\n",
    "left = [np.random.randint(0,10000) for i in range(300)]\n",
    "right = [i+100 for i in left]\n",
    "\n",
    "#df = pd.DataFrame({'left': [0,5,10,3,12,13,18,31], 'right':[4,8,13,7,19,16,23,35]})\n",
    "df = pd.DataFrame({'left': left, 'right':right})\n",
    "df = pd.DataFrame({'left': bl.sstart, 'right': bl.send})\n",
    "\n",
    "#print (df)\n",
    "\n",
    "def plot_segments(df, left='left',right='right'):\n",
    "    \n",
    "    v = df.sort_values([left, right])\n",
    "    df = df.assign(Group=(v[right] - v[left].shift(-1)).shift().lt(12).cumsum())    \n",
    "    f,ax=plt.subplots(1,1,figsize=(15,4))\n",
    "    import matplotlib._color_data as mcd\n",
    "    colors= list(mcd.XKCD_COLORS.values())\n",
    "    y=0\n",
    "    for i,g in df.groupby('Group'):\n",
    "        h=0\n",
    "        for j,r in g.iterrows():\n",
    "            c = colors[y]\n",
    "            ax.plot([r[left], r[right]], [h, h], '-', color=c, lw=3)\n",
    "            h+=1\n",
    "        y+=1\n",
    "\n",
    "plot_segments(df)"
   ]
  },
  {
   "cell_type": "code",
   "execution_count": null,
   "metadata": {},
   "outputs": [],
   "source": [
    "from intervaltree import Interval, IntervalTree\n",
    "ivs = [(1, 2), (4, 7), (5, 9)]\n",
    "t = IntervalTree(\n",
    " Interval(begin, end, \"%d-%d\" % (begin, end)) for begin, end in ivs\n",
    ")\n",
    "t"
   ]
  },
  {
   "cell_type": "markdown",
   "metadata": {},
   "source": [
    "## estimate species\n",
    "* use LCA method to get closest taxonomy from 16S blastn results \n",
    "* https://github.com/naturalis/Simple-LCA"
   ]
  },
  {
   "cell_type": "code",
   "execution_count": null,
   "metadata": {},
   "outputs": [],
   "source": [
    "# get taxids for 16S accessions?\n",
    "seqs = SeqIO.to_dict(SeqIO.parse(os.path.join(app.dbdir,'bacteria.16SrRNA.fa'),format='fasta'))\n",
    "out=open('accessions.txt','w')\n",
    "#for s in seqs:\n",
    "#    out.write(seqs[s].id+'\\n')"
   ]
  },
  {
   "cell_type": "code",
   "execution_count": null,
   "metadata": {},
   "outputs": [],
   "source": [
    "def plot_tree(dend_file,name='',ax=None):\n",
    "    \"\"\"Plot phylo tree\"\"\"\n",
    "    \n",
    "    from Bio import Phylo\n",
    "    if ax==None:\n",
    "        f,ax=plt.subplots(1,1,figsize=(12,8))\n",
    "    tree = Phylo.read(dend_file, \"newick\")\n",
    "    ax.set_title(name)\n",
    "    Phylo.draw(tree,axes=ax)\n",
    "    ax.axis('off')\n",
    "    return\n",
    "                      \n",
    "#blastn to 16S\n",
    "\n",
    "#take top results (bitscore and coverage)\n",
    "bl = bl.drop_duplicates('gene')\n",
    "bl = bl[:10]\n",
    "#print (bl[cols])\n",
    "#print (bl.iloc[0])\n",
    "qseq = bl.iloc[0].qseq\n",
    "#add taxonomy info to blast results\n",
    "\n",
    "#get query seq from best hit start/end and input fasta\n",
    "name = 'rf11'\n",
    "#get seqs from 16S hits\n",
    "hits=[]\n",
    "for id in bl.gene:    \n",
    "    if id in seqs:\n",
    "        r=seqs[id]\n",
    "        r.name = r.description\n",
    "        hits.append(r)\n",
    "        print (r.id,r.description)\n",
    "    \n",
    "hits.append(SeqRecord(Seq(qseq), id=name))\n",
    "\n",
    "SeqIO.write(hits,'hits.fa','fasta')\n",
    "tools.clustal_alignment(seqs=hits)\n",
    "plot_tree('temp.dnd',name=name,ax=None)\n"
   ]
  },
  {
   "cell_type": "code",
   "execution_count": 152,
   "metadata": {},
   "outputs": [],
   "source": [
    "from Bio import Entrez\n",
    "Entrez.email = 'someuser@mail.com'\n",
    "handle = Entrez.efetch(db=\"nucleotide\", id=\"AY851612\", rettype=\"gb\", retmode=\"text\")\n",
    "result=handle.read().split('\\n')"
   ]
  },
  {
   "cell_type": "markdown",
   "metadata": {},
   "source": [
    "## protein sequence clustering"
   ]
  },
  {
   "cell_type": "code",
   "execution_count": 30,
   "metadata": {},
   "outputs": [],
   "source": [
    "testseqs = list(SeqIO.parse('test.faa','fasta'))\n",
    "testseqs = [s.seq for s in testseqs]\n",
    "from sgt import Sgt\n",
    "sgt = Sgt(kappa = 10, lengthsensitive = False)\n",
    "enc = sgt.fit_transform(corpus=testseqs)"
   ]
  },
  {
   "cell_type": "code",
   "execution_count": 36,
   "metadata": {},
   "outputs": [
    {
     "name": "stdout",
     "output_type": "stream",
     "text": [
      "0.12570902044924762\n"
     ]
    },
    {
     "data": {
      "text/html": [
       "<div>\n",
       "<style scoped>\n",
       "    .dataframe tbody tr th:only-of-type {\n",
       "        vertical-align: middle;\n",
       "    }\n",
       "\n",
       "    .dataframe tbody tr th {\n",
       "        vertical-align: top;\n",
       "    }\n",
       "\n",
       "    .dataframe thead th {\n",
       "        text-align: right;\n",
       "    }\n",
       "</style>\n",
       "<table border=\"1\" class=\"dataframe\">\n",
       "  <thead>\n",
       "    <tr style=\"text-align: right;\">\n",
       "      <th></th>\n",
       "      <th>x1</th>\n",
       "      <th>x2</th>\n",
       "    </tr>\n",
       "  </thead>\n",
       "  <tbody>\n",
       "    <tr>\n",
       "      <th>0</th>\n",
       "      <td>-0.419230</td>\n",
       "      <td>-0.312565</td>\n",
       "    </tr>\n",
       "    <tr>\n",
       "      <th>1</th>\n",
       "      <td>-0.498251</td>\n",
       "      <td>0.063508</td>\n",
       "    </tr>\n",
       "    <tr>\n",
       "      <th>2</th>\n",
       "      <td>-0.366993</td>\n",
       "      <td>0.051391</td>\n",
       "    </tr>\n",
       "    <tr>\n",
       "      <th>3</th>\n",
       "      <td>-0.463185</td>\n",
       "      <td>-0.163183</td>\n",
       "    </tr>\n",
       "    <tr>\n",
       "      <th>4</th>\n",
       "      <td>0.605851</td>\n",
       "      <td>0.025587</td>\n",
       "    </tr>\n",
       "  </tbody>\n",
       "</table>\n",
       "</div>"
      ],
      "text/plain": [
       "         x1        x2\n",
       "0 -0.419230 -0.312565\n",
       "1 -0.498251  0.063508\n",
       "2 -0.366993  0.051391\n",
       "3 -0.463185 -0.163183\n",
       "4  0.605851  0.025587"
      ]
     },
     "execution_count": 36,
     "metadata": {},
     "output_type": "execute_result"
    }
   ],
   "source": [
    "from sklearn.decomposition import PCA\n",
    "from sklearn.cluster import KMeans\n",
    "pca = PCA(n_components=2)\n",
    "pca.fit(enc)\n",
    "X = pca.transform(enc)\n",
    "print(np.sum(pca.explained_variance_ratio_))\n",
    "\n",
    "df = pd.DataFrame(data=X, columns=['x1', 'x2'])\n",
    "df.head()"
   ]
  },
  {
   "cell_type": "code",
   "execution_count": null,
   "metadata": {},
   "outputs": [],
   "source": [
    "kmeans = KMeans(n_clusters=3, max_iter =300)\n",
    "kmeans.fit(df)\n",
    "\n",
    "labels = kmeans.predict(df)\n",
    "centroids = kmeans.cluster_centers_\n",
    "\n",
    "fig = plt.figure(figsize=(5, 5))\n",
    "colmap = {1: 'r', 2: 'g', 3: 'b'}\n",
    "colors = list(map(lambda x: colmap[x+1], labels))\n",
    "plt.scatter(df['x1'], df['x2'], color=colors, alpha=0.5, edgecolor=colors)"
   ]
  },
  {
   "cell_type": "code",
   "execution_count": 4,
   "metadata": {},
   "outputs": [],
   "source": [
    "def get_gene_hits(res, gene, filename, db='card'):\n",
    "    \"\"\"Get blast hit results\"\"\"\n",
    "\n",
    "    path = os.path.join(dbdir,'%s.fa' %db)\n",
    "    #dbseqs = SeqIO.to_dict(SeqIO.parse(path,'fasta'))\n",
    "    dbseqs = tools.fasta_to_dataframe(path)\n",
    "    dbseqs['gene'] = dbseqs.description.apply(lambda x: x.split('~~~')[1],1)\n",
    "    #print (dbseqs)\n",
    "    x = res[res.gene==gene]\n",
    "   \n",
    "    found=[]\n",
    "    contigs = []\n",
    "    for i,r in x.iterrows():\n",
    "        name = r.id\n",
    "        print (name)\n",
    "        #if name not in isolates: continue\n",
    "        seqs = SeqIO.to_dict(SeqIO.parse(r.filename,'fasta'))\n",
    "        node = r.contig\n",
    "        if r.sstart<r.send:\n",
    "            s = seqs[node].seq[r.sstart:r.send]\n",
    "        else:\n",
    "            s = seqs[node].seq[r.send:r.sstart].reverse_complement()\n",
    "\n",
    "        s = SeqRecord(id=name,seq=s)\n",
    "        found.append(s)\n",
    "        print (name, r.gene, r['coverage'], r['pident'], len(s), node)\n",
    "        #add card seq\n",
    "        contigs.append(seqs[node])\n",
    "\n",
    "    row = dbseqs[dbseqs.gene==gene].iloc[0]\n",
    "    print (row)\n",
    "    found.append(SeqRecord(id=row['name'],seq=Seq(row.sequence)))\n",
    "    seqfile = 'temp.fa'\n",
    "    SeqIO.write(found, seqfile,'fasta')\n",
    "    SeqIO.write(contigs,'contigs.fa','fasta')\n",
    "    #maaft_alignment(seqfile)\n",
    "    aln = tools.clustal_alignment(seqfile)\n",
    "    tools.show_alignment(aln)\n",
    "    #print (aln)\n",
    "    return\n"
   ]
  },
  {
   "cell_type": "code",
   "execution_count": null,
   "metadata": {},
   "outputs": [],
   "source": [
    "get_gene_hits(bl, 'dfrA1_9', '../test_files/RF15B.fa', 'resfinder')"
   ]
  },
  {
   "cell_type": "code",
   "execution_count": 5,
   "metadata": {},
   "outputs": [
    {
     "data": {
      "text/html": [
       "<div>\n",
       "<style scoped>\n",
       "    .dataframe tbody tr th:only-of-type {\n",
       "        vertical-align: middle;\n",
       "    }\n",
       "\n",
       "    .dataframe tbody tr th {\n",
       "        vertical-align: top;\n",
       "    }\n",
       "\n",
       "    .dataframe thead th {\n",
       "        text-align: right;\n",
       "    }\n",
       "</style>\n",
       "<table border=\"1\" class=\"dataframe\">\n",
       "  <thead>\n",
       "    <tr style=\"text-align: right;\">\n",
       "      <th>gene</th>\n",
       "      <th>aadA24_1</th>\n",
       "      <th>aph(3'')-Ib_2</th>\n",
       "      <th>aph(4)-Ia_1</th>\n",
       "      <th>aph(6)-Id_4</th>\n",
       "      <th>dfrA1_17</th>\n",
       "    </tr>\n",
       "    <tr>\n",
       "      <th>id</th>\n",
       "      <th></th>\n",
       "      <th></th>\n",
       "      <th></th>\n",
       "      <th></th>\n",
       "      <th></th>\n",
       "    </tr>\n",
       "  </thead>\n",
       "  <tbody>\n",
       "    <tr>\n",
       "      <th>RF15B.fa</th>\n",
       "      <td>98.187</td>\n",
       "      <td>100.0</td>\n",
       "      <td>100.0</td>\n",
       "      <td>99.88</td>\n",
       "      <td>99.577</td>\n",
       "    </tr>\n",
       "  </tbody>\n",
       "</table>\n",
       "</div>"
      ],
      "text/plain": [
       "gene      aadA24_1  aph(3'')-Ib_2  aph(4)-Ia_1  aph(6)-Id_4  dfrA1_17\n",
       "id                                                                   \n",
       "RF15B.fa    98.187          100.0        100.0        99.88    99.577"
      ]
     },
     "execution_count": 5,
     "metadata": {},
     "output_type": "execute_result"
    }
   ],
   "source": [
    "def pivot_blast_results(bl):\n",
    "    x = bl.drop_duplicates(['sstart'])\n",
    "    m = pd.pivot_table(x, index='id', columns='gene', values='pident')#, aggfunc=np.size)   \n",
    "    #m = m[m.columns[m.loc['ecoli_k12'].isnull()]]   \n",
    "    #m = m.drop('ecoli_k12')\n",
    "    return m\n",
    "\n",
    "m = pivot_blast_results(bl)\n",
    "m"
   ]
  },
  {
   "cell_type": "code",
   "execution_count": 9,
   "metadata": {},
   "outputs": [
    {
     "data": {
      "image/png": "[encoded data removed]",
      "text/plain": [
       "<Figure size 720x360 with 1 Axes>"
      ]
     },
     "metadata": {
      "needs_background": "light"
     },
     "output_type": "display_data"
    }
   ],
   "source": [
    "def merge_info(x):\n",
    "    m=info[['id','stage']]\n",
    "    x=m.merge(x,right_index=True,left_on='id')\n",
    "    x=x.set_index(['stage','id'])\n",
    "    return x\n",
    "\n",
    "def plot_heatmap(m, fig=None, title=''):\n",
    "\n",
    "    from matplotlib.gridspec import GridSpec\n",
    "    l=l=1+int(len(m)/30)\n",
    "    if fig == None:\n",
    "        fig = plt.figure()\n",
    "    gs = fig.add_gridspec(1, l)\n",
    "    chunks = np.array_split(m,l)\n",
    "    i=0\n",
    "    for df in chunks:\n",
    "        ax = fig.add_subplot(gs[0,i])\n",
    "        im = ax.imshow(df, cmap='Blues')\n",
    "        ax.set_xticks(np.arange(len(df.T)))\n",
    "        ax.set_yticks(np.arange(len(df)))\n",
    "        ax.set_xticklabels(df.columns)\n",
    "        ax.set_yticklabels(df.index)\n",
    "        plt.setp(ax.get_xticklabels(), rotation=45, ha=\"right\",\n",
    "                 rotation_mode=\"anchor\")\n",
    "        i+=1\n",
    "    fig.suptitle(title)\n",
    "    #plt.tight_layout()\n",
    "    fig.subplots_adjust(wspace=1.2, bottom=.2)\n",
    "    return\n",
    "\n",
    "fig = plt.figure(figsize=(10,5))\n",
    "plot_heatmap(m.T, fig=fig)"
   ]
  },
  {
   "cell_type": "code",
   "execution_count": 10,
   "metadata": {},
   "outputs": [
    {
     "name": "stdout",
     "output_type": "stream",
     "text": [
      "blasting 2617 sequences\n",
      "blastn -out tempseq_blast.txt -outfmt \"6 qseqid sseqid qseq sseq pident qcovs length mismatch gapopen qstart qend sstart send evalue bitscore stitle\" -query tempseq.fa -db targets.fasta -evalue 0.1 -max_target_seqs 100 -num_threads 2\n"
     ]
    },
    {
     "data": {
      "image/png": "[encoded data removed]",
      "text/plain": [
       "<Figure size 432x288 with 2 Axes>"
      ]
     },
     "metadata": {
      "needs_background": "light"
     },
     "output_type": "display_data"
    }
   ],
   "source": [
    "# run in sequence\n",
    "\n",
    "def run(filenames, db='card'):\n",
    "    \"\"\"Run pipeline\"\"\"\n",
    "    \n",
    "    fetch_sequence_db(db)\n",
    "    make_blast_database(filenames)\n",
    "    bl = find_genes('targets.fasta', db)\n",
    "    #find_gene_hits(bl, 'dfrA1_9', '../test_files/RF15B.fa', db)\n",
    "    bl.to_csv('%s_results.csv' %db)\n",
    "    m = pivot_blast_results(bl)\n",
    "    #print (m)\n",
    "    plot_heatmap(m.T)\n",
    "    m.to_csv('%s_matrix.csv' %db)\n",
    "    return\n",
    "\n",
    "inpath = '../test_files/'\n",
    "filenames = glob.glob(os.path.join(inpath,'*.fa*'))\n",
    "#run(filenames, db='resfinder')\n",
    "run(filenames, db='card')"
   ]
  },
  {
   "cell_type": "code",
   "execution_count": 11,
   "metadata": {},
   "outputs": [
    {
     "name": "stdout",
     "output_type": "stream",
     "text": [
      "/local/abricate/bin/abricate ../test_files/RF15B.fa -db card --mincov 50 --minid 90 > temp.tab\n"
     ]
    }
   ],
   "source": [
    "def abricate(filename, db='card',id=None):\n",
    "    \n",
    "    cmd = '/local/abricate/bin/abricate %s -db %s --mincov 50 --minid 90 > temp.tab' %(filename,db)\n",
    "    print (cmd)\n",
    "    subprocess.check_output(cmd, shell=True, executable='/bin/bash')\n",
    "    df = pd.read_csv('temp.tab',sep='\\t')\n",
    "    id = os.path.basename(filename)\n",
    "    df['id'] = id\n",
    "    return df\n",
    "\n",
    "x = abricate('../test_files/RF15B.fa')"
   ]
  },
  {
   "cell_type": "code",
   "execution_count": 12,
   "metadata": {},
   "outputs": [
    {
     "name": "stdout",
     "output_type": "stream",
     "text": [
      "blasting 2617 sequences\n",
      "blastn -out tempseq_blast.txt -outfmt \"6 qseqid sseqid qseq sseq pident qcovs length mismatch gapopen qstart qend sstart send evalue bitscore stitle\" -query tempseq.fa -db targets.fasta -evalue 0.1 -max_target_seqs 100 -num_threads 2\n"
     ]
    }
   ],
   "source": [
    "make_blast_database(['../test_files/RF15B.fa'])\n",
    "y = find_genes('targets.fasta', 'card', coverage=50, ident=90)"
   ]
  },
  {
   "cell_type": "code",
   "execution_count": 13,
   "metadata": {},
   "outputs": [
    {
     "name": "stdout",
     "output_type": "stream",
     "text": [
      "0       CTX-M-144\n",
      "1    ANT(3'')-IIa\n",
      "2           SAT-1\n",
      "3           dfrA1\n",
      "4       APH(6)-Id\n",
      "5     APH(3'')-Ib\n",
      "6         Tet(X3)\n",
      "7       AAC(3)-IV\n",
      "8       APH(4)-Ia\n",
      "Name: GENE, dtype: object\n",
      "12      CTX-M-107\n",
      "85         aadA24\n",
      "76           aadA\n",
      "73          SAT-1\n",
      "92          dfrA1\n",
      "7       APH(6)-Id\n",
      "3     APH(3'')-Ib\n",
      "4       APH(4)-Ia\n",
      "Name: gene, dtype: object\n"
     ]
    },
    {
     "data": {
      "text/plain": [
       "<matplotlib_venn._common.VennDiagram at 0x7f6d47995cd0>"
      ]
     },
     "execution_count": 13,
     "metadata": {},
     "output_type": "execute_result"
    },
    {
     "data": {
      "image/png": "[encoded data removed]",
      "text/plain": [
       "<Figure size 432x288 with 1 Axes>"
      ]
     },
     "metadata": {},
     "output_type": "display_data"
    }
   ],
   "source": [
    "print (x.GENE)\n",
    "print (y.gene)\n",
    "\n",
    "from matplotlib_venn import venn2\n",
    "venn2([set(x.GENE),set(y.gene)],['abricate','pyamrfinder'])"
   ]
  },
  {
   "cell_type": "markdown",
   "metadata": {},
   "source": [
    "## benchmarking\n",
    "\n",
    "* https://aac.asm.org/content/63/11/e00483-19\n",
    "* https://www.ncbi.nlm.nih.gov/pubmed/27365186"
   ]
  },
  {
   "cell_type": "code",
   "execution_count": null,
   "metadata": {},
   "outputs": [],
   "source": []
  },
  {
   "cell_type": "markdown",
   "metadata": {},
   "source": [
    "## use raw reads\n",
    "\n",
    "* https://www.ncbi.nlm.nih.gov/pmc/articles/PMC4237778/"
   ]
  },
  {
   "cell_type": "code",
   "execution_count": 27,
   "metadata": {},
   "outputs": [
    {
     "name": "stdout",
     "output_type": "stream",
     "text": [
      "bwa index /home/farrell/.config/pyamrfinder/db/card.fa\n",
      "bwa mem -M -t 8 /home/farrell/.config/pyamrfinder/db/card.fa ../test_reads/RF12A_S17_L001_R1_001.fastq.gz ../test_reads/RF12A_S17_L001_R2_001.fastq.gz | samtools sort | samtools view -bS - > out.bam\n"
     ]
    }
   ],
   "source": [
    "def find_reads(idx, file1, file2, bamfile, threads=4):\n",
    "    \n",
    "    cmd = 'bwa mem -M -t {t} {i} {f1} {f2} | samtools sort | samtools view -bS - > {o}'.format(i=idx,f1=file1,f2=file2,o=bamfile,t=threads)\n",
    "    print (cmd)\n",
    "    #subprocess.check_output(cmd, shell=True)    \n",
    "    return\n",
    "\n",
    "bamfile = 'out.bam'\n",
    "db=os.path.join(dbdir, 'card.fa')\n",
    "cmd = 'bwa index %s' %db\n",
    "print (cmd)\n",
    "subprocess.check_output(cmd, shell=True)\n",
    "\n",
    "find_reads(db, '../test_reads/RF12A_S17_L001_R1_001.fastq.gz', '../test_reads/RF12A_S17_L001_R2_001.fastq.gz', out, 8)\n"
   ]
  },
  {
   "cell_type": "code",
   "execution_count": 30,
   "metadata": {},
   "outputs": [
    {
     "name": "stdout",
     "output_type": "stream",
     "text": [
      "bcftools mpileup --skip-indels --threads 8 --output-type v -f /home/farrell/.config/pyamrfinder/db/card.fa --output out.vcf out.bam\n"
     ]
    }
   ],
   "source": [
    "threads=8\n",
    "out = 'out.vcf'\n",
    "cmd = 'bcftools mpileup --skip-indels --threads {t} --output-type v -f {db} --output {o} {b}'.format(db=db,o=out,b=bamfile,t=threads)\n",
    "print(cmd)"
   ]
  },
  {
   "cell_type": "markdown",
   "metadata": {},
   "source": [
    "## dna_features_viewer"
   ]
  },
  {
   "cell_type": "code",
   "execution_count": 109,
   "metadata": {},
   "outputs": [
    {
     "data": {
      "image/png": "[encoded data removed]",
      "text/plain": [
       "<Figure size 1080x144 with 1 Axes>"
      ]
     },
     "metadata": {},
     "output_type": "display_data"
    }
   ],
   "source": [
    "from dna_features_viewer import GraphicFeature, GraphicRecord\n",
    "from dna_features_viewer import BiopythonTranslator\n",
    "\n",
    "start = 2000\n",
    "end = 10000\n",
    "rec = recs[0]\n",
    "#recs = list(SeqIO.parse('annot.gbk',format='gb'))\n",
    "#rec = x[0]\n",
    "\n",
    "graphic_record = BiopythonTranslator().translate_record(rec)\n",
    "cropped_record = graphic_record.crop((start, end))\n",
    "fig,ax=plt.subplots(1,1,figsize=(15,2))\n",
    "ax, _ = cropped_record.plot(figure_width=15, strand_in_label_threshold=7, ax=ax)\n"
   ]
  },
  {
   "cell_type": "code",
   "execution_count": null,
   "metadata": {},
   "outputs": [],
   "source": []
  }
 ],
 "metadata": {
  "kernelspec": {
   "display_name": "Python 3",
   "language": "python",
   "name": "python3"
  },
  "language_info": {
   "codemirror_mode": {
    "name": "ipython",
    "version": 3
   },
   "file_extension": ".py",
   "mimetype": "text/x-python",
   "name": "python",
   "nbconvert_exporter": "python",
   "pygments_lexer": "ipython3",
   "version": "3.7.5"
  }
 },
 "nbformat": 4,
 "nbformat_minor": 4
}

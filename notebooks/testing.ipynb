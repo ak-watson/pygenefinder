{
 "cells": [
  {
   "cell_type": "markdown",
   "metadata": {},
   "source": [
    "## testing for pygenefinder"
   ]
  },
  {
   "cell_type": "code",
   "execution_count": 2,
   "metadata": {},
   "outputs": [],
   "source": [
    "import sys,os,subprocess,glob,tempfile,time\n",
    "import re\n",
    "from importlib import reload\n",
    "import pandas as pd\n",
    "pd.set_option('display.max_columns', 14)\n",
    "pd.set_option('display.max_colwidth', 150)\n",
    "import numpy as np\n",
    "import pylab as plt\n",
    "from Bio.SeqRecord import SeqRecord\n",
    "from Bio.Seq import Seq\n",
    "from Bio import SeqIO\n",
    "import urllib.request\n",
    "sys.path.append('../')\n",
    "from pygenefinder import tools, app\n",
    "datadir = '../pygenefinder/data/'\n",
    "dbdir = app.dbdir\n",
    "\n",
    "tempdir = tempfile.gettempdir()\n",
    "\n",
    "links = {'card':'https://github.com/tseemann/abricate/raw/master/db/card/sequences',\n",
    "        'resfinder':'https://raw.githubusercontent.com/tseemann/abricate/master/db/resfinder/sequences',\n",
    "        'vfdb':'https://raw.githubusercontent.com/tseemann/abricate/master/db/vfdb/sequences',\n",
    "        'sprot':'https://raw.githubusercontent.com/tseemann/prokka/master/db/kingdom/Bacteria/sprot'}"
   ]
  },
  {
   "cell_type": "code",
   "execution_count": 3,
   "metadata": {},
   "outputs": [],
   "source": [
    "def fetch_sequence_from_url(name='card', path=None):\n",
    "    \"\"\"get sequences\"\"\"\n",
    "    \n",
    "    if path == None:\n",
    "        path = dbdir\n",
    "    if not os.path.exists(path):\n",
    "        os.makedirs(path)\n",
    "\n",
    "    if name in links:\n",
    "        url = links[name]\n",
    "    else:\n",
    "        print('no such name')\n",
    "        return\n",
    "        \n",
    "    filename = os.path.join(path,\"%s.fa\" %name)\n",
    "    if not os.path.exists(filename):\n",
    "        urllib.request.urlretrieve(url, filename)\n",
    "    return\n",
    "\n",
    "fetch_sequence_from_url('resfinder')"
   ]
  },
  {
   "cell_type": "code",
   "execution_count": 3,
   "metadata": {},
   "outputs": [],
   "source": [
    "def make_target_database(filenames):\n",
    "    \"\"\"Make blast dbs of multiple input files\"\"\"\n",
    "\n",
    "    rec=[]\n",
    "    for n in filenames:\n",
    "        seqs = list(SeqIO.parse(n,'fasta'))\n",
    "        for s in seqs:\n",
    "            s.id = n + '~' + s.id\n",
    "        rec.extend(seqs)\n",
    "\n",
    "    targfile = os.path.join(tempdir, 'targets.fasta')\n",
    "    SeqIO.write(rec, targfile, 'fasta')\n",
    "    make_blast_database(targfile)\n",
    "    return\n",
    "\n",
    "def make_blast_database(filename, dbtype='nucl'):\n",
    "    \"\"\"Create a blast db from fasta file\"\"\"\n",
    "    \n",
    "    cmd = 'makeblastdb'\n",
    "    #if frozen app\n",
    "    if getattr(sys, 'frozen', False):\n",
    "        print ('bundled app in windows')\n",
    "        cmd = tools.resource_path('bin/makeblastdb.exe')\n",
    "\n",
    "    cline = '%s -dbtype %s -in %s' %(cmd,dbtype,filename)\n",
    "    subprocess.check_output(cline, shell=True)\n",
    "    return\n",
    "\n",
    "make_target_database(['../test_files/RF15B.fa','../test_files/RF15A.fa'])"
   ]
  },
  {
   "cell_type": "markdown",
   "metadata": {},
   "source": [
    "## quick prokka type annotation\n",
    "\n",
    "1. run prodigal \n",
    "2. blast output protein seqs \n",
    "3. select best hits\n",
    "4. make genbank from results\n",
    "\n",
    "* https://www.biostars.org/p/79392/\n",
    "* https://www.protocols.io/view/week-4-calling-open-reading-frames-with-prodigal-u-gz3bx8n"
   ]
  },
  {
   "cell_type": "code",
   "execution_count": 237,
   "metadata": {},
   "outputs": [],
   "source": [
    "fetch_sequence_from_url('sprot', path = app.prokkadbdir)"
   ]
  },
  {
   "cell_type": "code",
   "execution_count": 9,
   "metadata": {},
   "outputs": [
    {
     "name": "stdout",
     "output_type": "stream",
     "text": [
      "../test_files/RF11.faa\n",
      "blasting ORFS to uniprot sequences\n",
      "blastp -out tempseq_blast.txt -outfmt \"6 qseqid sseqid qseq sseq pident qcovs length mismatch gapopen qstart qend sstart send evalue bitscore stitle\" -query tempseq.fa -db /home/damien/.config/pygenefinder/prokka/sprot.fa -evalue 0.01 -max_target_seqs 100 -num_threads 10\n",
      "73.94352173805237\n"
     ]
    }
   ],
   "source": [
    "reload(tools)\n",
    "\n",
    "st=time.time()\n",
    "#pr = annotate_contigs('../test_annot/contig.fa', 'annot.gbk', threads=10)\n",
    "pr = app.annotate_contigs('../test_files/RF11.fa', 'annot.gbk', threads=10)\n",
    "print (time.time()-st)"
   ]
  },
  {
   "cell_type": "code",
   "execution_count": 21,
   "metadata": {},
   "outputs": [],
   "source": [
    "def records_to_fasta(recs, outfile):\n",
    "    \"\"\"Write seqrecords features to a fasta file\"\"\"\n",
    "\n",
    "    handle = open(outfile,'w+')\n",
    "    for rec in recs:\n",
    "        for feat in rec.features:        \n",
    "            quals = feat.qualifiers\n",
    "            SeqIO.write(SeqRecord(Seq(quals['translation']),id=quals['locus_tag']), handle, \"fasta\")\n",
    "    return\n",
    "\n",
    "records_to_fasta(pr, 'test.faa')\n"
   ]
  },
  {
   "cell_type": "markdown",
   "metadata": {},
   "source": [
    "## protein sequence clustering"
   ]
  },
  {
   "cell_type": "code",
   "execution_count": null,
   "metadata": {},
   "outputs": [],
   "source": [
    "#cdhit\n",
    "\n"
   ]
  },
  {
   "cell_type": "code",
   "execution_count": 30,
   "metadata": {},
   "outputs": [],
   "source": [
    "testseqs = list(SeqIO.parse('test.faa','fasta'))\n",
    "testseqs = [s.seq for s in testseqs]\n",
    "from sgt import Sgt\n",
    "sgt = Sgt(kappa = 10, lengthsensitive = False)\n",
    "enc = sgt.fit_transform(corpus=testseqs)"
   ]
  },
  {
   "cell_type": "code",
   "execution_count": 36,
   "metadata": {},
   "outputs": [
    {
     "name": "stdout",
     "output_type": "stream",
     "text": [
      "0.12570902044924762\n"
     ]
    },
    {
     "data": {
      "text/html": [
       "<div>\n",
       "<style scoped>\n",
       "    .dataframe tbody tr th:only-of-type {\n",
       "        vertical-align: middle;\n",
       "    }\n",
       "\n",
       "    .dataframe tbody tr th {\n",
       "        vertical-align: top;\n",
       "    }\n",
       "\n",
       "    .dataframe thead th {\n",
       "        text-align: right;\n",
       "    }\n",
       "</style>\n",
       "<table border=\"1\" class=\"dataframe\">\n",
       "  <thead>\n",
       "    <tr style=\"text-align: right;\">\n",
       "      <th></th>\n",
       "      <th>x1</th>\n",
       "      <th>x2</th>\n",
       "    </tr>\n",
       "  </thead>\n",
       "  <tbody>\n",
       "    <tr>\n",
       "      <th>0</th>\n",
       "      <td>-0.419230</td>\n",
       "      <td>-0.312565</td>\n",
       "    </tr>\n",
       "    <tr>\n",
       "      <th>1</th>\n",
       "      <td>-0.498251</td>\n",
       "      <td>0.063508</td>\n",
       "    </tr>\n",
       "    <tr>\n",
       "      <th>2</th>\n",
       "      <td>-0.366993</td>\n",
       "      <td>0.051391</td>\n",
       "    </tr>\n",
       "    <tr>\n",
       "      <th>3</th>\n",
       "      <td>-0.463185</td>\n",
       "      <td>-0.163183</td>\n",
       "    </tr>\n",
       "    <tr>\n",
       "      <th>4</th>\n",
       "      <td>0.605851</td>\n",
       "      <td>0.025587</td>\n",
       "    </tr>\n",
       "  </tbody>\n",
       "</table>\n",
       "</div>"
      ],
      "text/plain": [
       "         x1        x2\n",
       "0 -0.419230 -0.312565\n",
       "1 -0.498251  0.063508\n",
       "2 -0.366993  0.051391\n",
       "3 -0.463185 -0.163183\n",
       "4  0.605851  0.025587"
      ]
     },
     "execution_count": 36,
     "metadata": {},
     "output_type": "execute_result"
    }
   ],
   "source": [
    "from sklearn.decomposition import PCA\n",
    "from sklearn.cluster import KMeans\n",
    "pca = PCA(n_components=2)\n",
    "pca.fit(enc)\n",
    "X = pca.transform(enc)\n",
    "print(np.sum(pca.explained_variance_ratio_))\n",
    "\n",
    "df = pd.DataFrame(data=X, columns=['x1', 'x2'])\n",
    "df.head()"
   ]
  },
  {
   "cell_type": "code",
   "execution_count": 37,
   "metadata": {},
   "outputs": [
    {
     "data": {
      "text/plain": [
       "<matplotlib.collections.PathCollection at 0x7f963849d590>"
      ]
     },
     "execution_count": 37,
     "metadata": {},
     "output_type": "execute_result"
    },
    {
     "data": {
      "image/png": "[encoded data removed]",
      "text/plain": [
       "<Figure size 360x360 with 1 Axes>"
      ]
     },
     "metadata": {
      "needs_background": "light"
     },
     "output_type": "display_data"
    }
   ],
   "source": [
    "kmeans = KMeans(n_clusters=3, max_iter =300)\n",
    "kmeans.fit(df)\n",
    "\n",
    "labels = kmeans.predict(df)\n",
    "centroids = kmeans.cluster_centers_\n",
    "\n",
    "fig = plt.figure(figsize=(5, 5))\n",
    "colmap = {1: 'r', 2: 'g', 3: 'b'}\n",
    "colors = list(map(lambda x: colmap[x+1], labels))\n",
    "plt.scatter(df['x1'], df['x2'], color=colors, alpha=0.5, edgecolor=colors)"
   ]
  },
  {
   "cell_type": "code",
   "execution_count": null,
   "metadata": {},
   "outputs": [],
   "source": [
    "reload(tools)\n",
    "df=tools.genbank_to_dataframe('../amr_results/ecoli_HSP38.gbk')"
   ]
  },
  {
   "cell_type": "code",
   "execution_count": 14,
   "metadata": {},
   "outputs": [
    {
     "name": "stdout",
     "output_type": "stream",
     "text": [
      "blasting 3077 sequences\n",
      "blastn -out tempseq_blast.txt -outfmt \"6 qseqid sseqid qseq sseq pident qcovs length mismatch gapopen qstart qend sstart send evalue bitscore stitle\" -query tempseq.fa -db targets.fasta -evalue 0.1 -max_target_seqs 100 -num_threads 2\n"
     ]
    }
   ],
   "source": [
    "def find_genes(target, ref='card', ident=90, coverage=75, duplicates=False):\n",
    "    \"\"\"Find ref genes by blasting the target sequences\"\"\"\n",
    "\n",
    "    path = os.path.join(dbdir,'%s.fa' %ref)\n",
    "    #the AMR db is the query for the blast\n",
    "    queryseqs = list(SeqIO.parse(path,'fasta'))\n",
    "    print ('blasting %s sequences' %len(queryseqs))\n",
    "    bl = tools.blast_sequences(target, queryseqs, maxseqs=100, evalue=.1,\n",
    "                               cmd='blastn', show_cmd=True)\n",
    "    \n",
    "    bl['qlength'] = bl.sequence.str.len()\n",
    "    bl['coverage'] = bl.length/bl.qlength*100\n",
    "    bl = bl[bl.coverage>coverage]\n",
    "    bl = bl[bl.pident>ident]\n",
    "    bl['filename'] = bl.sseqid.apply(lambda x: x.split('~')[0],1)\n",
    "    bl['id'] = bl.filename.apply(lambda x: os.path.basename(x),1)\n",
    "    bl['contig'] = bl.sseqid.apply(lambda x: x.split('~')[1],1)\n",
    "    bl['gene'] = bl['qseqid'].apply(lambda x: x.split('~~~')[1],1)\n",
    "    \n",
    "    #remove exact and close duplicates\n",
    "    bl = bl.sort_values(['coverage','pident'], ascending=False).drop_duplicates(['contig','sstart','send'])\n",
    "    if duplicates == False:\n",
    "        dist = 20\n",
    "        bl=bl.sort_values(by=[\"contig\",\"sstart\"])   \n",
    "        unique = bl.sstart.diff().fillna(dist)\n",
    "        bl = bl[unique>=dist]\n",
    "    cols = ['gene','id','qseqid','pident','coverage','sstart','send','contig','filename']\n",
    "    bl = bl[cols]\n",
    "    return bl\n",
    "\n",
    "bl = find_genes('targets.fasta', 'resfinder')"
   ]
  },
  {
   "cell_type": "code",
   "execution_count": null,
   "metadata": {},
   "outputs": [],
   "source": [
    "\n",
    "dist = 20\n",
    "bl=bl.sort_values(by=[\"contig\",\"sstart\"])\n",
    "print (bl[:15][bl.columns[:8]])\n",
    "unique = bl.sstart.diff().fillna(dist)\n",
    "bl[unique>=dist]\n"
   ]
  },
  {
   "cell_type": "code",
   "execution_count": 4,
   "metadata": {},
   "outputs": [],
   "source": [
    "def get_gene_hits(res, gene, filename, db='card'):\n",
    "    \"\"\"Get blast hit results\"\"\"\n",
    "\n",
    "    path = os.path.join(dbdir,'%s.fa' %db)\n",
    "    #dbseqs = SeqIO.to_dict(SeqIO.parse(path,'fasta'))\n",
    "    dbseqs = tools.fasta_to_dataframe(path)\n",
    "    dbseqs['gene'] = dbseqs.description.apply(lambda x: x.split('~~~')[1],1)\n",
    "    #print (dbseqs)\n",
    "    x = res[res.gene==gene]\n",
    "   \n",
    "    found=[]\n",
    "    contigs = []\n",
    "    for i,r in x.iterrows():\n",
    "        name = r.id\n",
    "        print (name)\n",
    "        #if name not in isolates: continue\n",
    "        seqs = SeqIO.to_dict(SeqIO.parse(r.filename,'fasta'))\n",
    "        node = r.contig\n",
    "        if r.sstart<r.send:\n",
    "            s = seqs[node].seq[r.sstart:r.send]\n",
    "        else:\n",
    "            s = seqs[node].seq[r.send:r.sstart].reverse_complement()\n",
    "\n",
    "        s = SeqRecord(id=name,seq=s)\n",
    "        found.append(s)\n",
    "        print (name, r.gene, r['coverage'], r['pident'], len(s), node)\n",
    "        #add card seq\n",
    "        contigs.append(seqs[node])\n",
    "\n",
    "    row = dbseqs[dbseqs.gene==gene].iloc[0]\n",
    "    print (row)\n",
    "    found.append(SeqRecord(id=row['name'],seq=Seq(row.sequence)))\n",
    "    seqfile = 'temp.fa'\n",
    "    SeqIO.write(found, seqfile,'fasta')\n",
    "    SeqIO.write(contigs,'contigs.fa','fasta')\n",
    "    #maaft_alignment(seqfile)\n",
    "    aln = tools.clustal_alignment(seqfile)\n",
    "    tools.show_alignment(aln)\n",
    "    #print (aln)\n",
    "    return\n"
   ]
  },
  {
   "cell_type": "code",
   "execution_count": null,
   "metadata": {},
   "outputs": [],
   "source": [
    "get_gene_hits(bl, 'dfrA1_9', '../test_files/RF15B.fa', 'resfinder')"
   ]
  },
  {
   "cell_type": "code",
   "execution_count": 5,
   "metadata": {},
   "outputs": [
    {
     "data": {
      "text/html": [
       "<div>\n",
       "<style scoped>\n",
       "    .dataframe tbody tr th:only-of-type {\n",
       "        vertical-align: middle;\n",
       "    }\n",
       "\n",
       "    .dataframe tbody tr th {\n",
       "        vertical-align: top;\n",
       "    }\n",
       "\n",
       "    .dataframe thead th {\n",
       "        text-align: right;\n",
       "    }\n",
       "</style>\n",
       "<table border=\"1\" class=\"dataframe\">\n",
       "  <thead>\n",
       "    <tr style=\"text-align: right;\">\n",
       "      <th>gene</th>\n",
       "      <th>aadA24_1</th>\n",
       "      <th>aph(3'')-Ib_2</th>\n",
       "      <th>aph(4)-Ia_1</th>\n",
       "      <th>aph(6)-Id_4</th>\n",
       "      <th>dfrA1_17</th>\n",
       "    </tr>\n",
       "    <tr>\n",
       "      <th>id</th>\n",
       "      <th></th>\n",
       "      <th></th>\n",
       "      <th></th>\n",
       "      <th></th>\n",
       "      <th></th>\n",
       "    </tr>\n",
       "  </thead>\n",
       "  <tbody>\n",
       "    <tr>\n",
       "      <th>RF15B.fa</th>\n",
       "      <td>98.187</td>\n",
       "      <td>100.0</td>\n",
       "      <td>100.0</td>\n",
       "      <td>99.88</td>\n",
       "      <td>99.577</td>\n",
       "    </tr>\n",
       "  </tbody>\n",
       "</table>\n",
       "</div>"
      ],
      "text/plain": [
       "gene      aadA24_1  aph(3'')-Ib_2  aph(4)-Ia_1  aph(6)-Id_4  dfrA1_17\n",
       "id                                                                   \n",
       "RF15B.fa    98.187          100.0        100.0        99.88    99.577"
      ]
     },
     "execution_count": 5,
     "metadata": {},
     "output_type": "execute_result"
    }
   ],
   "source": [
    "def pivot_blast_results(bl):\n",
    "    x = bl.drop_duplicates(['sstart'])\n",
    "    m = pd.pivot_table(x, index='id', columns='gene', values='pident')#, aggfunc=np.size)   \n",
    "    #m = m[m.columns[m.loc['ecoli_k12'].isnull()]]   \n",
    "    #m = m.drop('ecoli_k12')\n",
    "    return m\n",
    "\n",
    "m = pivot_blast_results(bl)\n",
    "m"
   ]
  },
  {
   "cell_type": "code",
   "execution_count": 9,
   "metadata": {},
   "outputs": [
    {
     "data": {
      "image/png": "[encoded data removed]",
      "text/plain": [
       "<Figure size 720x360 with 1 Axes>"
      ]
     },
     "metadata": {
      "needs_background": "light"
     },
     "output_type": "display_data"
    }
   ],
   "source": [
    "def merge_info(x):\n",
    "    m=info[['id','stage']]\n",
    "    x=m.merge(x,right_index=True,left_on='id')\n",
    "    x=x.set_index(['stage','id'])\n",
    "    return x\n",
    "\n",
    "def plot_heatmap(m, fig=None, title=''):\n",
    "\n",
    "    from matplotlib.gridspec import GridSpec\n",
    "    l=l=1+int(len(m)/30)\n",
    "    if fig == None:\n",
    "        fig = plt.figure()\n",
    "    gs = fig.add_gridspec(1, l)\n",
    "    chunks = np.array_split(m,l)\n",
    "    i=0\n",
    "    for df in chunks:\n",
    "        ax = fig.add_subplot(gs[0,i])\n",
    "        im = ax.imshow(df, cmap='Blues')\n",
    "        ax.set_xticks(np.arange(len(df.T)))\n",
    "        ax.set_yticks(np.arange(len(df)))\n",
    "        ax.set_xticklabels(df.columns)\n",
    "        ax.set_yticklabels(df.index)\n",
    "        plt.setp(ax.get_xticklabels(), rotation=45, ha=\"right\",\n",
    "                 rotation_mode=\"anchor\")\n",
    "        i+=1\n",
    "    fig.suptitle(title)\n",
    "    #plt.tight_layout()\n",
    "    fig.subplots_adjust(wspace=1.2, bottom=.2)\n",
    "    return\n",
    "\n",
    "fig = plt.figure(figsize=(10,5))\n",
    "plot_heatmap(m.T, fig=fig)"
   ]
  },
  {
   "cell_type": "code",
   "execution_count": 10,
   "metadata": {},
   "outputs": [
    {
     "name": "stdout",
     "output_type": "stream",
     "text": [
      "blasting 2617 sequences\n",
      "blastn -out tempseq_blast.txt -outfmt \"6 qseqid sseqid qseq sseq pident qcovs length mismatch gapopen qstart qend sstart send evalue bitscore stitle\" -query tempseq.fa -db targets.fasta -evalue 0.1 -max_target_seqs 100 -num_threads 2\n"
     ]
    },
    {
     "data": {
      "image/png": "[encoded data removed]",
      "text/plain": [
       "<Figure size 432x288 with 2 Axes>"
      ]
     },
     "metadata": {
      "needs_background": "light"
     },
     "output_type": "display_data"
    }
   ],
   "source": [
    "# run in sequence\n",
    "\n",
    "def run(filenames, db='card'):\n",
    "    \"\"\"Run pipeline\"\"\"\n",
    "    \n",
    "    fetch_sequence_db(db)\n",
    "    make_blast_database(filenames)\n",
    "    bl = find_genes('targets.fasta', db)\n",
    "    #find_gene_hits(bl, 'dfrA1_9', '../test_files/RF15B.fa', db)\n",
    "    bl.to_csv('%s_results.csv' %db)\n",
    "    m = pivot_blast_results(bl)\n",
    "    #print (m)\n",
    "    plot_heatmap(m.T)\n",
    "    m.to_csv('%s_matrix.csv' %db)\n",
    "    return\n",
    "\n",
    "inpath = '../test_files/'\n",
    "filenames = glob.glob(os.path.join(inpath,'*.fa*'))\n",
    "#run(filenames, db='resfinder')\n",
    "run(filenames, db='card')"
   ]
  },
  {
   "cell_type": "code",
   "execution_count": 11,
   "metadata": {},
   "outputs": [
    {
     "name": "stdout",
     "output_type": "stream",
     "text": [
      "/local/abricate/bin/abricate ../test_files/RF15B.fa -db card --mincov 50 --minid 90 > temp.tab\n"
     ]
    }
   ],
   "source": [
    "def abricate(filename, db='card',id=None):\n",
    "    \n",
    "    cmd = '/local/abricate/bin/abricate %s -db %s --mincov 50 --minid 90 > temp.tab' %(filename,db)\n",
    "    print (cmd)\n",
    "    subprocess.check_output(cmd, shell=True, executable='/bin/bash')\n",
    "    df = pd.read_csv('temp.tab',sep='\\t')\n",
    "    id = os.path.basename(filename)\n",
    "    df['id'] = id\n",
    "    return df\n",
    "\n",
    "x = abricate('../test_files/RF15B.fa')"
   ]
  },
  {
   "cell_type": "code",
   "execution_count": 12,
   "metadata": {},
   "outputs": [
    {
     "name": "stdout",
     "output_type": "stream",
     "text": [
      "blasting 2617 sequences\n",
      "blastn -out tempseq_blast.txt -outfmt \"6 qseqid sseqid qseq sseq pident qcovs length mismatch gapopen qstart qend sstart send evalue bitscore stitle\" -query tempseq.fa -db targets.fasta -evalue 0.1 -max_target_seqs 100 -num_threads 2\n"
     ]
    }
   ],
   "source": [
    "make_blast_database(['../test_files/RF15B.fa'])\n",
    "y = find_genes('targets.fasta', 'card', coverage=50, ident=90)"
   ]
  },
  {
   "cell_type": "code",
   "execution_count": 13,
   "metadata": {},
   "outputs": [
    {
     "name": "stdout",
     "output_type": "stream",
     "text": [
      "0       CTX-M-144\n",
      "1    ANT(3'')-IIa\n",
      "2           SAT-1\n",
      "3           dfrA1\n",
      "4       APH(6)-Id\n",
      "5     APH(3'')-Ib\n",
      "6         Tet(X3)\n",
      "7       AAC(3)-IV\n",
      "8       APH(4)-Ia\n",
      "Name: GENE, dtype: object\n",
      "12      CTX-M-107\n",
      "85         aadA24\n",
      "76           aadA\n",
      "73          SAT-1\n",
      "92          dfrA1\n",
      "7       APH(6)-Id\n",
      "3     APH(3'')-Ib\n",
      "4       APH(4)-Ia\n",
      "Name: gene, dtype: object\n"
     ]
    },
    {
     "data": {
      "text/plain": [
       "<matplotlib_venn._common.VennDiagram at 0x7f6d47995cd0>"
      ]
     },
     "execution_count": 13,
     "metadata": {},
     "output_type": "execute_result"
    },
    {
     "data": {
      "image/png": "[encoded data removed]",
      "text/plain": [
       "<Figure size 432x288 with 1 Axes>"
      ]
     },
     "metadata": {},
     "output_type": "display_data"
    }
   ],
   "source": [
    "print (x.GENE)\n",
    "print (y.gene)\n",
    "\n",
    "from matplotlib_venn import venn2\n",
    "venn2([set(x.GENE),set(y.gene)],['abricate','pyamrfinder'])"
   ]
  },
  {
   "cell_type": "markdown",
   "metadata": {},
   "source": [
    "## benchmarking\n",
    "\n",
    "* https://aac.asm.org/content/63/11/e00483-19\n",
    "* https://www.ncbi.nlm.nih.gov/pubmed/27365186"
   ]
  },
  {
   "cell_type": "code",
   "execution_count": null,
   "metadata": {},
   "outputs": [],
   "source": []
  },
  {
   "cell_type": "markdown",
   "metadata": {},
   "source": [
    "## use raw reads\n",
    "\n",
    "* https://www.ncbi.nlm.nih.gov/pmc/articles/PMC4237778/"
   ]
  },
  {
   "cell_type": "code",
   "execution_count": 27,
   "metadata": {},
   "outputs": [
    {
     "name": "stdout",
     "output_type": "stream",
     "text": [
      "bwa index /home/farrell/.config/pyamrfinder/db/card.fa\n",
      "bwa mem -M -t 8 /home/farrell/.config/pyamrfinder/db/card.fa ../test_reads/RF12A_S17_L001_R1_001.fastq.gz ../test_reads/RF12A_S17_L001_R2_001.fastq.gz | samtools sort | samtools view -bS - > out.bam\n"
     ]
    }
   ],
   "source": [
    "def find_reads(idx, file1, file2, bamfile, threads=4):\n",
    "    \n",
    "    cmd = 'bwa mem -M -t {t} {i} {f1} {f2} | samtools sort | samtools view -bS - > {o}'.format(i=idx,f1=file1,f2=file2,o=bamfile,t=threads)\n",
    "    print (cmd)\n",
    "    #subprocess.check_output(cmd, shell=True)    \n",
    "    return\n",
    "\n",
    "bamfile = 'out.bam'\n",
    "db=os.path.join(dbdir, 'card.fa')\n",
    "cmd = 'bwa index %s' %db\n",
    "print (cmd)\n",
    "subprocess.check_output(cmd, shell=True)\n",
    "\n",
    "find_reads(db, '../test_reads/RF12A_S17_L001_R1_001.fastq.gz', '../test_reads/RF12A_S17_L001_R2_001.fastq.gz', out, 8)\n"
   ]
  },
  {
   "cell_type": "code",
   "execution_count": 30,
   "metadata": {},
   "outputs": [
    {
     "name": "stdout",
     "output_type": "stream",
     "text": [
      "bcftools mpileup --skip-indels --threads 8 --output-type v -f /home/farrell/.config/pyamrfinder/db/card.fa --output out.vcf out.bam\n"
     ]
    }
   ],
   "source": [
    "threads=8\n",
    "out = 'out.vcf'\n",
    "cmd = 'bcftools mpileup --skip-indels --threads {t} --output-type v -f {db} --output {o} {b}'.format(db=db,o=out,b=bamfile,t=threads)\n",
    "print(cmd)"
   ]
  }
 ],
 "metadata": {
  "kernelspec": {
   "display_name": "Python 3",
   "language": "python",
   "name": "python3"
  },
  "language_info": {
   "codemirror_mode": {
    "name": "ipython",
    "version": 3
   },
   "file_extension": ".py",
   "mimetype": "text/x-python",
   "name": "python",
   "nbconvert_exporter": "python",
   "pygments_lexer": "ipython3",
   "version": "3.7.5"
  }
 },
 "nbformat": 4,
 "nbformat_minor": 4
}

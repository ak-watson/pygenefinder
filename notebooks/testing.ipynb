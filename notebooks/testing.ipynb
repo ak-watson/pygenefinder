{
 "cells": [
  {
   "cell_type": "code",
   "execution_count": 12,
   "metadata": {},
   "outputs": [],
   "source": [
    "import sys,os,subprocess,glob\n",
    "import pandas as pd\n",
    "import numpy as np\n",
    "from Bio.SeqRecord import SeqRecord\n",
    "from Bio.Seq import Seq\n",
    "from Bio import SeqIO\n",
    "import urllib.request"
   ]
  },
  {
   "cell_type": "code",
   "execution_count": 14,
   "metadata": {},
   "outputs": [],
   "source": [
    "def fetch_sequence_db(name='card'):\n",
    "    \"\"\"get sequences\"\"\"\n",
    "    \n",
    "    path = '.'\n",
    "    if name == 'card':\n",
    "        url = 'https://github.com/tseemann/abricate/raw/master/db/card/sequences'\n",
    "    filename = os.path.join(path,\"%s.fa\" %name)\n",
    "    if not os.path.exists(filename):\n",
    "        urllib.request.urlretrieve(url, filename)\n",
    "    return\n",
    "\n",
    "fetch_sequence_db()"
   ]
  },
  {
   "cell_type": "code",
   "execution_count": null,
   "metadata": {},
   "outputs": [],
   "source": [
    "seqs = []\n",
    "for s in SeqIO.parse('/local/abricate/db/card/sequences','fasta'):\n",
    "    try:\n",
    "        seqs.append(s)\n",
    "    except:\n",
    "        pass \n"
   ]
  },
  {
   "cell_type": "code",
   "execution_count": 4,
   "metadata": {},
   "outputs": [],
   "source": [
    "def blast_card(ident=90,coverage=.75):\n",
    "    \"\"\"blast card seqs\"\"\"\n",
    "\n",
    "    cardseqs = list(SeqIO.parse('/local/abricate/db/card/sequences','fasta'))\n",
    "    #bl = tools.local_blast(qfile, 'scaffolds.fasta', ident=ident, params='-e 10 -a 2 -S 1')\n",
    "    bl = tools.blast_sequences('scaffolds.fasta',cardseqs,maxseqs=100,evalue=.1,cmd='blastn',show_cmd=True)\n",
    "    print (bl[:5])\n",
    "    bl['qlength'] = bl.sequence.str.len()\n",
    "    bl['coverage'] = bl.length/bl.qlength\n",
    "    bl = bl[bl.coverage>coverage]\n",
    "    bl = bl[bl.pident>ident]\n",
    "    bl['id'] = bl.sseqid.apply(lambda x: x.split('~')[0],1)\n",
    "    bl['contig'] = bl.sseqid.apply(lambda x: x.split('~')[1],1)\n",
    "    bl['gene'] = bl['qseqid'].apply(lambda x: x.split('~~~')[1],1)\n",
    "    #print (bl)\n",
    "    cols = ['qseqid','sseqid','pident','sstart','send','coverage','contig','gene','id']\n",
    "    bl = bl[cols]\n",
    "    return bl"
   ]
  },
  {
   "cell_type": "code",
   "execution_count": null,
   "metadata": {},
   "outputs": [],
   "source": [
    "blast_card()"
   ]
  },
  {
   "cell_type": "code",
   "execution_count": null,
   "metadata": {},
   "outputs": [],
   "source": [
    "def make_blast_database(filenames):\n",
    "    \"\"\"make blast dbs\"\"\"\n",
    "\n",
    "    rec=[]\n",
    "    for n in filenames:\n",
    "        seqs = list(SeqIO.parse('scaffolds/%s.fa' %n,'fasta'))\n",
    "        for s in seqs:\n",
    "            s.id = n + '~' + s.id\n",
    "        rec.extend(seqs)\n",
    "    ref = list(SeqIO.parse('genomes/ecoli_k12.fa','fasta'))\n",
    "    ref[0].id = 'ecoli_k12~1'\n",
    "    rec.extend(ref)\n",
    "    SeqIO.write(rec, 'scaffolds.fasta', 'fasta')\n",
    "    cmd = 'makeblastdb -dbtype nucl -in scaffolds.fasta'\n",
    "    \n",
    "    "
   ]
  }
 ],
 "metadata": {
  "kernelspec": {
   "display_name": "Python 3",
   "language": "python",
   "name": "python3"
  },
  "language_info": {
   "codemirror_mode": {
    "name": "ipython",
    "version": 3
   },
   "file_extension": ".py",
   "mimetype": "text/x-python",
   "name": "python",
   "nbconvert_exporter": "python",
   "pygments_lexer": "ipython3",
   "version": "3.7.5"
  }
 },
 "nbformat": 4,
 "nbformat_minor": 4
}

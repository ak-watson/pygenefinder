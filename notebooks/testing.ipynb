{
 "cells": [
  {
   "cell_type": "markdown",
   "metadata": {},
   "source": [
    "## testing for pyarmfinder"
   ]
  },
  {
   "cell_type": "code",
   "execution_count": 97,
   "metadata": {},
   "outputs": [],
   "source": [
    "import sys,os,subprocess,glob\n",
    "import pandas as pd\n",
    "pd.set_option('display.max_columns', 14)\n",
    "pd.set_option('display.width', 200)\n",
    "import numpy as np\n",
    "import pylab as plt\n",
    "from Bio.SeqRecord import SeqRecord\n",
    "from Bio.Seq import Seq\n",
    "from Bio import SeqIO\n",
    "import urllib.request\n",
    "sys.path.append('../')\n",
    "from pyamrfinder import tools, app\n",
    "datadir = '../pyamrfinder/data/'"
   ]
  },
  {
   "cell_type": "code",
   "execution_count": 2,
   "metadata": {},
   "outputs": [],
   "source": [
    "def fetch_sequence_db(name='card'):\n",
    "    \"\"\"get sequences\"\"\"\n",
    "    \n",
    "    path = datadir\n",
    "    if name == 'card':\n",
    "        url = 'https://github.com/tseemann/abricate/raw/master/db/card/sequences'\n",
    "    elif name == 'resfinder':\n",
    "        url = 'https://raw.githubusercontent.com/tseemann/abricate/master/db/resfinder/sequences'\n",
    "    filename = os.path.join(path,\"%s.fa\" %name)\n",
    "    if not os.path.exists(filename):\n",
    "        urllib.request.urlretrieve(url, filename)\n",
    "    return\n",
    "\n",
    "fetch_sequence_db('resfinder')"
   ]
  },
  {
   "cell_type": "code",
   "execution_count": null,
   "metadata": {},
   "outputs": [],
   "source": [
    "fname='/local/abricate/db/card/sequences'\n",
    "f=open(fname,'r')\n",
    "for i in f.readlines():\n",
    "\n",
    "sp=SeqIO.parse(handle=f,format='fasta')\n",
    "seqs=[]\n",
    "print (seqs)"
   ]
  },
  {
   "cell_type": "code",
   "execution_count": 48,
   "metadata": {},
   "outputs": [],
   "source": [
    "def make_blast_database(filenames):\n",
    "    \"\"\"Make blast dbs of multiple input files\"\"\"\n",
    "\n",
    "    rec=[]\n",
    "    for n in filenames:\n",
    "        seqs = list(SeqIO.parse(n,'fasta'))\n",
    "        for s in seqs:\n",
    "            s.id = n + '~' + s.id\n",
    "        rec.extend(seqs)\n",
    "    #ref = list(SeqIO.parse('genomes/ecoli_k12.fa','fasta'))\n",
    "    #ref[0].id = 'ecoli_k12~1'\n",
    "    #rec.extend(ref)\n",
    "    SeqIO.write(rec, 'out.fasta', 'fasta')\n",
    "    cmd = 'makeblastdb -dbtype nucl -in out.fasta'\n",
    "    subprocess.check_output(cmd, shell=True)\n",
    "    return\n",
    "\n",
    "make_blast_database(['../test_files/RF15B.fa','../test_files/RF15A.fa'])"
   ]
  },
  {
   "cell_type": "code",
   "execution_count": 115,
   "metadata": {},
   "outputs": [
    {
     "name": "stdout",
     "output_type": "stream",
     "text": [
      "blasting 3077 sequences\n",
      "blastn -out tempseq_blast.txt -outfmt \"6 qseqid sseqid qseq sseq pident qcovs length mismatch gapopen qstart qend sstart send evalue bitscore stitle\" -query tempseq.fa -db out.fasta -evalue 0.1 -max_target_seqs 100 -num_threads 2\n"
     ]
    }
   ],
   "source": [
    "def run_blast(target, ref='card', ident=90, coverage=75):\n",
    "    \"\"\"blast card seqs\"\"\"\n",
    "\n",
    "    path = os.path.join(datadir,'%s.fa' %ref)\n",
    "    dbseqs = list(SeqIO.parse(path,'fasta'))\n",
    "    print ('blasting %s sequences' %len(dbseqs))\n",
    "    bl = tools.blast_sequences(target, dbseqs, maxseqs=100, evalue=.1,\n",
    "                               cmd='blastn', show_cmd=True)\n",
    "    #print (bl[:5])\n",
    "    bl['qlength'] = bl.sequence.str.len()\n",
    "    bl['coverage'] = bl.length/bl.qlength*100\n",
    "    bl = bl[bl.coverage>coverage]\n",
    "    bl = bl[bl.pident>ident]\n",
    "    bl['filename'] = bl.sseqid.apply(lambda x: x.split('~')[0],1)\n",
    "    bl['id'] = bl.filename.apply(lambda x: os.path.basename(x),1)\n",
    "    bl['contig'] = bl.sseqid.apply(lambda x: x.split('~')[1],1)\n",
    "    bl['gene'] = bl['qseqid'].apply(lambda x: x.split('~~~')[1],1)\n",
    "    #print (bl)\n",
    "    cols = ['qseqid','pident','sstart','send','coverage','contig','gene','id','filename']\n",
    "    bl = bl[cols]\n",
    "    return bl\n",
    "\n",
    "bl = run_blast('out.fasta', 'resfinder')"
   ]
  },
  {
   "cell_type": "code",
   "execution_count": 116,
   "metadata": {},
   "outputs": [
    {
     "data": {
      "text/html": [
       "<div>\n",
       "<style scoped>\n",
       "    .dataframe tbody tr th:only-of-type {\n",
       "        vertical-align: middle;\n",
       "    }\n",
       "\n",
       "    .dataframe tbody tr th {\n",
       "        vertical-align: top;\n",
       "    }\n",
       "\n",
       "    .dataframe thead th {\n",
       "        text-align: right;\n",
       "    }\n",
       "</style>\n",
       "<table border=\"1\" class=\"dataframe\">\n",
       "  <thead>\n",
       "    <tr style=\"text-align: right;\">\n",
       "      <th></th>\n",
       "      <th>qseqid</th>\n",
       "      <th>pident</th>\n",
       "      <th>sstart</th>\n",
       "      <th>send</th>\n",
       "      <th>coverage</th>\n",
       "      <th>contig</th>\n",
       "      <th>gene</th>\n",
       "      <th>id</th>\n",
       "      <th>filename</th>\n",
       "    </tr>\n",
       "  </thead>\n",
       "  <tbody>\n",
       "    <tr>\n",
       "      <th>396</th>\n",
       "      <td>resfinder~~~dfrA1_9~~~AJ238350~~~Trimethoprim</td>\n",
       "      <td>99.578</td>\n",
       "      <td>2680</td>\n",
       "      <td>3153</td>\n",
       "      <td>100.0</td>\n",
       "      <td>NODE_105_length_16198_cov_135.908</td>\n",
       "      <td>dfrA1_9</td>\n",
       "      <td>RF16A.fa</td>\n",
       "      <td>../test_files/RF16A.fa</td>\n",
       "    </tr>\n",
       "    <tr>\n",
       "      <th>397</th>\n",
       "      <td>resfinder~~~dfrA1_9~~~AJ238350~~~Trimethoprim</td>\n",
       "      <td>99.578</td>\n",
       "      <td>5615</td>\n",
       "      <td>6088</td>\n",
       "      <td>100.0</td>\n",
       "      <td>NODE_26_length_38011_cov_86.3981</td>\n",
       "      <td>dfrA1_9</td>\n",
       "      <td>RF15A.fa</td>\n",
       "      <td>../test_files/RF15A.fa</td>\n",
       "    </tr>\n",
       "    <tr>\n",
       "      <th>401</th>\n",
       "      <td>resfinder~~~mdf(A)_1~~~Y08743~~~</td>\n",
       "      <td>98.459</td>\n",
       "      <td>8684</td>\n",
       "      <td>7452</td>\n",
       "      <td>100.0</td>\n",
       "      <td>NODE_55_length_26978_cov_47.0204</td>\n",
       "      <td>mdf(A)_1</td>\n",
       "      <td>RF16A.fa</td>\n",
       "      <td>../test_files/RF16A.fa</td>\n",
       "    </tr>\n",
       "    <tr>\n",
       "      <th>503</th>\n",
       "      <td>resfinder~~~tet(B)_1~~~AP000342~~~Doxycycline;...</td>\n",
       "      <td>99.917</td>\n",
       "      <td>13599</td>\n",
       "      <td>14804</td>\n",
       "      <td>100.0</td>\n",
       "      <td>NODE_105_length_16198_cov_135.908</td>\n",
       "      <td>tet(B)_1</td>\n",
       "      <td>RF16A.fa</td>\n",
       "      <td>../test_files/RF16A.fa</td>\n",
       "    </tr>\n",
       "    <tr>\n",
       "      <th>504</th>\n",
       "      <td>resfinder~~~tet(B)_2~~~AF326777~~~Doxycycline;...</td>\n",
       "      <td>100.000</td>\n",
       "      <td>13599</td>\n",
       "      <td>14804</td>\n",
       "      <td>100.0</td>\n",
       "      <td>NODE_105_length_16198_cov_135.908</td>\n",
       "      <td>tet(B)_2</td>\n",
       "      <td>RF16A.fa</td>\n",
       "      <td>../test_files/RF16A.fa</td>\n",
       "    </tr>\n",
       "    <tr>\n",
       "      <th>505</th>\n",
       "      <td>resfinder~~~tet(B)_3~~~AJ277653~~~Doxycycline;...</td>\n",
       "      <td>99.585</td>\n",
       "      <td>13599</td>\n",
       "      <td>14804</td>\n",
       "      <td>100.0</td>\n",
       "      <td>NODE_105_length_16198_cov_135.908</td>\n",
       "      <td>tet(B)_3</td>\n",
       "      <td>RF16A.fa</td>\n",
       "      <td>../test_files/RF16A.fa</td>\n",
       "    </tr>\n",
       "  </tbody>\n",
       "</table>\n",
       "</div>"
      ],
      "text/plain": [
       "                                                qseqid   pident  sstart   send  coverage                             contig      gene        id                filename\n",
       "396      resfinder~~~dfrA1_9~~~AJ238350~~~Trimethoprim   99.578    2680   3153     100.0  NODE_105_length_16198_cov_135.908   dfrA1_9  RF16A.fa  ../test_files/RF16A.fa\n",
       "397      resfinder~~~dfrA1_9~~~AJ238350~~~Trimethoprim   99.578    5615   6088     100.0   NODE_26_length_38011_cov_86.3981   dfrA1_9  RF15A.fa  ../test_files/RF15A.fa\n",
       "401                   resfinder~~~mdf(A)_1~~~Y08743~~~   98.459    8684   7452     100.0   NODE_55_length_26978_cov_47.0204  mdf(A)_1  RF16A.fa  ../test_files/RF16A.fa\n",
       "503  resfinder~~~tet(B)_1~~~AP000342~~~Doxycycline;...   99.917   13599  14804     100.0  NODE_105_length_16198_cov_135.908  tet(B)_1  RF16A.fa  ../test_files/RF16A.fa\n",
       "504  resfinder~~~tet(B)_2~~~AF326777~~~Doxycycline;...  100.000   13599  14804     100.0  NODE_105_length_16198_cov_135.908  tet(B)_2  RF16A.fa  ../test_files/RF16A.fa\n",
       "505  resfinder~~~tet(B)_3~~~AJ277653~~~Doxycycline;...   99.585   13599  14804     100.0  NODE_105_length_16198_cov_135.908  tet(B)_3  RF16A.fa  ../test_files/RF16A.fa"
      ]
     },
     "execution_count": 116,
     "metadata": {},
     "output_type": "execute_result"
    }
   ],
   "source": [
    "bl[-6:]"
   ]
  },
  {
   "cell_type": "code",
   "execution_count": 77,
   "metadata": {},
   "outputs": [],
   "source": [
    "def find_gene_hits(res, gene, filename, db='card'):\n",
    "    \"\"\"Get blast hit results\"\"\"\n",
    "\n",
    "    path = os.path.join(datadir,'%s.fa' %db)\n",
    "    #dbseqs = SeqIO.to_dict(SeqIO.parse(path,'fasta'))\n",
    "    dbseqs = tools.fasta_to_dataframe(path)\n",
    "    dbseqs['gene'] = dbseqs.description.apply(lambda x: x.split('~~~')[1],1)\n",
    "    #print (dbseqs)\n",
    "    x = res[res.gene==gene]\n",
    "   \n",
    "    found=[]\n",
    "    contigs = []\n",
    "    for i,r in x.iterrows():\n",
    "        name = r.id\n",
    "        print (name)\n",
    "        #if name not in isolates: continue\n",
    "        seqs = SeqIO.to_dict(SeqIO.parse(r.filename,'fasta'))\n",
    "        node = r.contig\n",
    "        if r.sstart<r.send:\n",
    "            s = seqs[node].seq[r.sstart:r.send]\n",
    "        else:\n",
    "            s = seqs[node].seq[r.send:r.sstart].reverse_complement()\n",
    "\n",
    "        s = SeqRecord(id=name,seq=s)\n",
    "        found.append(s)\n",
    "        print (name, r.gene, r['coverage'], r['pident'], len(s), node)\n",
    "        #add card seq\n",
    "        contigs.append(seqs[node])\n",
    "\n",
    "    row = dbseqs[dbseqs.gene==gene].iloc[0]\n",
    "    print (row)\n",
    "    found.append(SeqRecord(id=row['name'],seq=Seq(row.sequence)))\n",
    "    seqfile = 'temp.fa'\n",
    "    SeqIO.write(found, seqfile,'fasta')\n",
    "    SeqIO.write(contigs,'contigs.fa','fasta')\n",
    "    #maaft_alignment(seqfile)\n",
    "    aln = tools.clustal_alignment(seqfile)\n",
    "    print (aln)\n",
    "    return\n"
   ]
  },
  {
   "cell_type": "code",
   "execution_count": 78,
   "metadata": {},
   "outputs": [
    {
     "name": "stdout",
     "output_type": "stream",
     "text": [
      "RF15A.fa\n",
      "RF15A.fa dfrA1_9 1.0 99.57799999999999 473 NODE_26_length_38011_cov_86.3981\n",
      "RF15B.fa\n",
      "RF15B.fa dfrA1_9 1.0 99.57799999999999 473 NODE_25_length_25084_cov_86.3603\n",
      "name               resfinder~~~dfrA1_9~~~AJ238350~~~Trimethoprim\n",
      "sequence       GTGAAACTATCACTAATGGTAGCTATATCGAAGAATGGAGTTATCG...\n",
      "description    resfinder~~~dfrA1_9~~~AJ238350~~~Trimethoprim ...\n",
      "type                                                         CDS\n",
      "gene                                                     dfrA1_9\n",
      "Name: 2351, dtype: object\n",
      "SingleLetterAlphabet() alignment with 3 rows and 474 columns\n",
      "-TGAAACTATCACTAATGGTAGCTATATCGAAGAATGGAGTTAT...TAA RF15A.fa\n",
      "GTGAAACTATCACTAATGGTAGCTATATCGAAGAATGGAGTTAT...TA- RF15B.fa\n",
      "GTGAAACTATCACTAATGGTAGCTATATCGAAGAATGGAGTTAT...TAA resfinder~~~dfrA1_9~~~AJ238350\n"
     ]
    }
   ],
   "source": [
    "find_gene_hits(bl, 'dfrA1_9', '../test_files/RF15B.fa', 'resfinder')"
   ]
  },
  {
   "cell_type": "code",
   "execution_count": 117,
   "metadata": {},
   "outputs": [],
   "source": [
    "def pivot_blast_results(bl):\n",
    "    x = bl.drop_duplicates(['sstart'])\n",
    "    m = pd.pivot_table(x, index='id', columns='gene', values='pident', aggfunc=np.size)   \n",
    "    #m = m[m.columns[m.loc['ecoli_k12'].isnull()]]   \n",
    "    #m = m.drop('ecoli_k12')\n",
    "    return m\n",
    "\n",
    "m = pivot_blast_results(bl)"
   ]
  },
  {
   "cell_type": "code",
   "execution_count": 109,
   "metadata": {},
   "outputs": [],
   "source": [
    "def merge_info(x):\n",
    "    m=info[['id','stage']]\n",
    "    x=m.merge(x,right_index=True,left_on='id')\n",
    "    x=x.set_index(['stage','id'])\n",
    "    return x\n",
    "    \n",
    "\n",
    "def plot_heatmap(m):\n",
    "    f,ax=plt.subplots(figsize=(15,8))\n",
    "    im = ax.imshow(m)\n",
    "    ax.set_xticks(np.arange(len(m.T)))\n",
    "    ax.set_yticks(np.arange(len(m)))\n",
    "    ax.set_xticklabels(m.columns)\n",
    "    ax.set_yticklabels(m.index)\n",
    "    plt.setp(ax.get_xticklabels(), rotation=45, ha=\"right\",\n",
    "         rotation_mode=\"anchor\")"
   ]
  },
  {
   "cell_type": "code",
   "execution_count": 110,
   "metadata": {},
   "outputs": [
    {
     "name": "stdout",
     "output_type": "stream",
     "text": [
      "blasting 3077 sequences\n",
      "blastn -out tempseq_blast.txt -outfmt \"6 qseqid sseqid qseq sseq pident qcovs length mismatch gapopen qstart qend sstart send evalue bitscore stitle\" -query tempseq.fa -db out.fasta -evalue 0.1 -max_target_seqs 100 -num_threads 2\n",
      "gene      aac(3)-IV_1  aadA11_2  aadA23_1  aadA24_1  ant(3'')-Ia_1  aph(3'')-Ib_1  aph(3'')-Ib_2  ...  aph(6)-Id_4  blaCTX-M-101_1  blaCTX-M-211_1  dfrA1_1  dfrA1_17  mdf(A)_1  tet(B)_1\n",
      "id                                                                                                ...                                                                                    \n",
      "RF15A.fa          NaN       1.0       1.0       1.0            1.0            1.0            1.0  ...          1.0             NaN             NaN      1.0       1.0       NaN       NaN\n",
      "RF15B.fa          1.0       1.0       1.0       1.0            1.0            1.0            1.0  ...          1.0             NaN             NaN      1.0       1.0       NaN       NaN\n",
      "RF16A.fa          NaN       1.0       1.0       1.0            1.0            NaN            NaN  ...          NaN             1.0             1.0      1.0       1.0       1.0       1.0\n",
      "\n",
      "[3 rows x 16 columns]\n",
      "blasting 2617 sequences\n",
      "blastn -out tempseq_blast.txt -outfmt \"6 qseqid sseqid qseq sseq pident qcovs length mismatch gapopen qstart qend sstart send evalue bitscore stitle\" -query tempseq.fa -db out.fasta -evalue 0.1 -max_target_seqs 100 -num_threads 2\n",
      "gene      AAC(3)-IV  ANT(3'')-IIa  APH(3'')-Ib  APH(4)-Ia  APH(6)-Id  CRP  CTX-M-1  ...  mphB  msbA  pmrF  tet(B)  tolC  ugd  yojI\n",
      "id                                                                                  ...                                           \n",
      "RF15A.fa        NaN           1.0          1.0        NaN        1.0  NaN      NaN  ...   NaN   NaN   NaN     NaN   NaN  NaN   NaN\n",
      "RF15B.fa        1.0           1.0          1.0        1.0        1.0  NaN      NaN  ...   NaN   NaN   NaN     NaN   NaN  NaN   NaN\n",
      "RF16A.fa        NaN           1.0          NaN        NaN        NaN  1.0      1.0  ...   1.0   1.0   1.0     1.0   1.0  1.0   1.0\n",
      "\n",
      "[3 rows x 54 columns]\n"
     ]
    },
    {
     "data": {
      "image/png": "[encoded data removed]",
      "text/plain": [
       "<Figure size 1080x576 with 1 Axes>"
      ]
     },
     "metadata": {
      "needs_background": "light"
     },
     "output_type": "display_data"
    },
    {
     "data": {
      "image/png": "[encoded data removed]",
      "text/plain": [
       "<Figure size 1080x576 with 1 Axes>"
      ]
     },
     "metadata": {
      "needs_background": "light"
     },
     "output_type": "display_data"
    }
   ],
   "source": [
    "# run in sequence\n",
    "\n",
    "def run(filenames, db='card'):\n",
    "    \"\"\"Run pipeline\"\"\"\n",
    "    \n",
    "    fetch_sequence_db(db)\n",
    "    make_blast_database(filenames)\n",
    "    bl = run_blast('out.fasta', db)\n",
    "    #find_gene_hits(bl, 'dfrA1_9', '../test_files/RF15B.fa', db)\n",
    "    bl.to_csv('%s_results.csv' %db)\n",
    "    m = pivot_blast_results(bl)\n",
    "    print (m)\n",
    "    plot_heatmap(m)\n",
    "    m.to_csv('%s_matrix.csv' %db)\n",
    "    return\n",
    "\n",
    "inpath = '../test_files/'\n",
    "filenames = glob.glob(os.path.join(inpath,'*.fa*'))\n",
    "run(filenames, db='resfinder')\n",
    "run(filenames, db='card')"
   ]
  },
  {
   "cell_type": "code",
   "execution_count": null,
   "metadata": {},
   "outputs": [],
   "source": []
  }
 ],
 "metadata": {
  "kernelspec": {
   "display_name": "Python 3",
   "language": "python",
   "name": "python3"
  },
  "language_info": {
   "codemirror_mode": {
    "name": "ipython",
    "version": 3
   },
   "file_extension": ".py",
   "mimetype": "text/x-python",
   "name": "python",
   "nbconvert_exporter": "python",
   "pygments_lexer": "ipython3",
   "version": "3.7.5"
  }
 },
 "nbformat": 4,
 "nbformat_minor": 4
}

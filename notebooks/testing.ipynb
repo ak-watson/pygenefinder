{
 "cells": [
  {
   "cell_type": "markdown",
   "metadata": {},
   "source": [
    "## testing for pyarmfinder"
   ]
  },
  {
   "cell_type": "code",
   "execution_count": 1,
   "metadata": {},
   "outputs": [],
   "source": [
    "import sys,os,subprocess,glob\n",
    "import pandas as pd\n",
    "pd.set_option('display.max_columns', 14)\n",
    "pd.set_option('display.width', 200)\n",
    "import numpy as np\n",
    "import pylab as plt\n",
    "from Bio.SeqRecord import SeqRecord\n",
    "from Bio.Seq import Seq\n",
    "from Bio import SeqIO\n",
    "import urllib.request\n",
    "sys.path.append('../')\n",
    "from pyamrfinder import tools, app\n",
    "datadir = '../pyamrfinder/data/'\n",
    "dbdir = app.dbdir"
   ]
  },
  {
   "cell_type": "code",
   "execution_count": 8,
   "metadata": {},
   "outputs": [],
   "source": [
    "def fetch_sequence_db(name='card'):\n",
    "    \"\"\"get sequences\"\"\"\n",
    "    \n",
    "    path = dbdir\n",
    "    if not os.path.exists(path):\n",
    "        os.makedirs(path)\n",
    "    links = {'card':'https://github.com/tseemann/abricate/raw/master/db/card/sequences',\n",
    "            'resfinder':'https://raw.githubusercontent.com/tseemann/abricate/master/db/resfinder/sequences',\n",
    "            'vfdb':'https://raw.githubusercontent.com/tseemann/abricate/master/db/vfdb/sequences'\n",
    "            }\n",
    "    if name in links:\n",
    "        url = links[name]\n",
    "    else:\n",
    "        print('no such name')\n",
    "        return\n",
    "        \n",
    "    filename = os.path.join(path,\"%s.fa\" %name)\n",
    "    if not os.path.exists(filename):\n",
    "        urllib.request.urlretrieve(url, filename)\n",
    "    return\n",
    "\n",
    "fetch_sequence_db('resfinder')"
   ]
  },
  {
   "cell_type": "code",
   "execution_count": null,
   "metadata": {},
   "outputs": [],
   "source": [
    "fname='/local/abricate/db/card/sequences'\n",
    "f=open(fname,'r')\n",
    "for i in f.readlines():\n",
    "\n",
    "sp=SeqIO.parse(handle=f,format='fasta')\n",
    "seqs=[]\n",
    "print (seqs)"
   ]
  },
  {
   "cell_type": "code",
   "execution_count": 9,
   "metadata": {},
   "outputs": [],
   "source": [
    "def make_blast_database(filenames):\n",
    "    \"\"\"Make blast dbs of multiple input files\"\"\"\n",
    "\n",
    "    rec=[]\n",
    "    for n in filenames:\n",
    "        seqs = list(SeqIO.parse(n,'fasta'))\n",
    "        for s in seqs:\n",
    "            s.id = n + '~' + s.id\n",
    "        rec.extend(seqs)\n",
    "    #ref = list(SeqIO.parse('genomes/ecoli_k12.fa','fasta'))\n",
    "    #ref[0].id = 'ecoli_k12~1'\n",
    "    #rec.extend(ref)\n",
    "    SeqIO.write(rec, 'targets.fasta', 'fasta')\n",
    "    cmd = 'makeblastdb -dbtype nucl -in targets.fasta'\n",
    "    subprocess.check_output(cmd, shell=True)\n",
    "    return\n",
    "\n",
    "make_blast_database(['../test_files/RF15B.fa','../test_files/RF15A.fa'])"
   ]
  },
  {
   "cell_type": "code",
   "execution_count": 10,
   "metadata": {},
   "outputs": [
    {
     "name": "stdout",
     "output_type": "stream",
     "text": [
      "blasting 3077 sequences\n",
      "blastn -out tempseq_blast.txt -outfmt \"6 qseqid sseqid qseq sseq pident qcovs length mismatch gapopen qstart qend sstart send evalue bitscore stitle\" -query tempseq.fa -db targets.fasta -evalue 0.1 -max_target_seqs 100 -num_threads 2\n"
     ]
    }
   ],
   "source": [
    "def find_genes(target, ref='card', ident=90, coverage=75):\n",
    "    \"\"\"Find ref genes by blasting the target sequences\"\"\"\n",
    "\n",
    "    path = os.path.join(dbdir,'%s.fa' %ref)\n",
    "    dbseqs = list(SeqIO.parse(path,'fasta'))\n",
    "    print ('blasting %s sequences' %len(dbseqs))\n",
    "    bl = tools.blast_sequences(target, dbseqs, maxseqs=100, evalue=.1,\n",
    "                               cmd='blastn', show_cmd=True)\n",
    "    \n",
    "    bl['qlength'] = bl.sequence.str.len()\n",
    "    bl['coverage'] = bl.length/bl.qlength*100\n",
    "    bl = bl[bl.coverage>coverage]\n",
    "    bl = bl[bl.pident>ident]\n",
    "    bl['filename'] = bl.sseqid.apply(lambda x: x.split('~')[0],1)\n",
    "    bl['id'] = bl.filename.apply(lambda x: os.path.basename(x),1)\n",
    "    bl['contig'] = bl.sseqid.apply(lambda x: x.split('~')[1],1)\n",
    "    bl['gene'] = bl['qseqid'].apply(lambda x: x.split('~~~')[1],1)\n",
    "    \n",
    "    bl = bl.sort_values('coverage', ascending=False).drop_duplicates(['sstart','send'])\n",
    "    #print (bl)\n",
    "    cols = ['qseqid','pident','sstart','send','coverage','contig','gene','id','filename']\n",
    "    bl = bl[cols]\n",
    "    return bl\n",
    "\n",
    "bl = find_genes('targets.fasta', 'resfinder')"
   ]
  },
  {
   "cell_type": "code",
   "execution_count": null,
   "metadata": {},
   "outputs": [],
   "source": [
    "#bl.sort_values('coverage', ascending=False).drop_duplicates(['sstart','send'])\n",
    "bl[\"group_diff\"] = bl.sort_values(by=[\"sstart\"])\\\n",
    "                     .groupby(\"gene\")[\"sstart\"]\\\n",
    "                     .diff()\\\n",
    "                     .gt(5)\\\n",
    "                     .cumsum()\n",
    "\n",
    "print (bl)\n",
    "g = bl.groupby([\"group_diff\"])\n",
    "g.groups"
   ]
  },
  {
   "cell_type": "code",
   "execution_count": 11,
   "metadata": {},
   "outputs": [],
   "source": [
    "def get_gene_hits(res, gene, filename, db='card'):\n",
    "    \"\"\"Get blast hit results\"\"\"\n",
    "\n",
    "    path = os.path.join(dbdir,'%s.fa' %db)\n",
    "    #dbseqs = SeqIO.to_dict(SeqIO.parse(path,'fasta'))\n",
    "    dbseqs = tools.fasta_to_dataframe(path)\n",
    "    dbseqs['gene'] = dbseqs.description.apply(lambda x: x.split('~~~')[1],1)\n",
    "    #print (dbseqs)\n",
    "    x = res[res.gene==gene]\n",
    "   \n",
    "    found=[]\n",
    "    contigs = []\n",
    "    for i,r in x.iterrows():\n",
    "        name = r.id\n",
    "        print (name)\n",
    "        #if name not in isolates: continue\n",
    "        seqs = SeqIO.to_dict(SeqIO.parse(r.filename,'fasta'))\n",
    "        node = r.contig\n",
    "        if r.sstart<r.send:\n",
    "            s = seqs[node].seq[r.sstart:r.send]\n",
    "        else:\n",
    "            s = seqs[node].seq[r.send:r.sstart].reverse_complement()\n",
    "\n",
    "        s = SeqRecord(id=name,seq=s)\n",
    "        found.append(s)\n",
    "        print (name, r.gene, r['coverage'], r['pident'], len(s), node)\n",
    "        #add card seq\n",
    "        contigs.append(seqs[node])\n",
    "\n",
    "    row = dbseqs[dbseqs.gene==gene].iloc[0]\n",
    "    print (row)\n",
    "    found.append(SeqRecord(id=row['name'],seq=Seq(row.sequence)))\n",
    "    seqfile = 'temp.fa'\n",
    "    SeqIO.write(found, seqfile,'fasta')\n",
    "    SeqIO.write(contigs,'contigs.fa','fasta')\n",
    "    #maaft_alignment(seqfile)\n",
    "    aln = tools.clustal_alignment(seqfile)\n",
    "    tools.show_alignment(aln)\n",
    "    #print (aln)\n",
    "    return\n"
   ]
  },
  {
   "cell_type": "code",
   "execution_count": null,
   "metadata": {},
   "outputs": [],
   "source": [
    "get_gene_hits(bl, 'dfrA1_9', '../test_files/RF15B.fa', 'resfinder')"
   ]
  },
  {
   "cell_type": "code",
   "execution_count": 12,
   "metadata": {},
   "outputs": [
    {
     "data": {
      "text/html": [
       "<div>\n",
       "<style scoped>\n",
       "    .dataframe tbody tr th:only-of-type {\n",
       "        vertical-align: middle;\n",
       "    }\n",
       "\n",
       "    .dataframe tbody tr th {\n",
       "        vertical-align: top;\n",
       "    }\n",
       "\n",
       "    .dataframe thead th {\n",
       "        text-align: right;\n",
       "    }\n",
       "</style>\n",
       "<table border=\"1\" class=\"dataframe\">\n",
       "  <thead>\n",
       "    <tr style=\"text-align: right;\">\n",
       "      <th>gene</th>\n",
       "      <th>aac(3)-IVa_1</th>\n",
       "      <th>aadA1_2</th>\n",
       "      <th>aadA23_1</th>\n",
       "      <th>aadA24_1</th>\n",
       "      <th>aadA3_1</th>\n",
       "      <th>ant(3'')-Ia_1</th>\n",
       "      <th>aph(3'')-Ib_2</th>\n",
       "      <th>...</th>\n",
       "      <th>aph(3'')-Ib_4</th>\n",
       "      <th>aph(4)-Ia_1</th>\n",
       "      <th>aph(6)-Id_4</th>\n",
       "      <th>aph(6)-Id_5</th>\n",
       "      <th>dfrA1_11</th>\n",
       "      <th>dfrA1_12</th>\n",
       "      <th>dfrA1_17</th>\n",
       "    </tr>\n",
       "    <tr>\n",
       "      <th>id</th>\n",
       "      <th></th>\n",
       "      <th></th>\n",
       "      <th></th>\n",
       "      <th></th>\n",
       "      <th></th>\n",
       "      <th></th>\n",
       "      <th></th>\n",
       "      <th></th>\n",
       "      <th></th>\n",
       "      <th></th>\n",
       "      <th></th>\n",
       "      <th></th>\n",
       "      <th></th>\n",
       "      <th></th>\n",
       "      <th></th>\n",
       "    </tr>\n",
       "  </thead>\n",
       "  <tbody>\n",
       "    <tr>\n",
       "      <th>RF15A.fa</th>\n",
       "      <td>NaN</td>\n",
       "      <td>NaN</td>\n",
       "      <td>97.28</td>\n",
       "      <td>93.059</td>\n",
       "      <td>90.53</td>\n",
       "      <td>99.377</td>\n",
       "      <td>100.0</td>\n",
       "      <td>...</td>\n",
       "      <td>99.876</td>\n",
       "      <td>NaN</td>\n",
       "      <td>99.88</td>\n",
       "      <td>99.881</td>\n",
       "      <td>NaN</td>\n",
       "      <td>99.789</td>\n",
       "      <td>99.577</td>\n",
       "    </tr>\n",
       "    <tr>\n",
       "      <th>RF15B.fa</th>\n",
       "      <td>99.843</td>\n",
       "      <td>96.97</td>\n",
       "      <td>97.28</td>\n",
       "      <td>93.059</td>\n",
       "      <td>NaN</td>\n",
       "      <td>99.377</td>\n",
       "      <td>100.0</td>\n",
       "      <td>...</td>\n",
       "      <td>NaN</td>\n",
       "      <td>100.0</td>\n",
       "      <td>99.88</td>\n",
       "      <td>99.881</td>\n",
       "      <td>99.156</td>\n",
       "      <td>NaN</td>\n",
       "      <td>99.577</td>\n",
       "    </tr>\n",
       "  </tbody>\n",
       "</table>\n",
       "<p>2 rows × 15 columns</p>\n",
       "</div>"
      ],
      "text/plain": [
       "gene      aac(3)-IVa_1  aadA1_2  aadA23_1  aadA24_1  aadA3_1  ant(3'')-Ia_1  aph(3'')-Ib_2  ...  aph(3'')-Ib_4  aph(4)-Ia_1  aph(6)-Id_4  aph(6)-Id_5  dfrA1_11  dfrA1_12  dfrA1_17\n",
       "id                                                                                          ...                                                                                    \n",
       "RF15A.fa           NaN      NaN     97.28    93.059    90.53         99.377          100.0  ...         99.876          NaN        99.88       99.881       NaN    99.789    99.577\n",
       "RF15B.fa        99.843    96.97     97.28    93.059      NaN         99.377          100.0  ...            NaN        100.0        99.88       99.881    99.156       NaN    99.577\n",
       "\n",
       "[2 rows x 15 columns]"
      ]
     },
     "execution_count": 12,
     "metadata": {},
     "output_type": "execute_result"
    }
   ],
   "source": [
    "def pivot_blast_results(bl):\n",
    "    x = bl.drop_duplicates(['sstart'])\n",
    "    m = pd.pivot_table(x, index='id', columns='gene', values='pident')#, aggfunc=np.size)   \n",
    "    #m = m[m.columns[m.loc['ecoli_k12'].isnull()]]   \n",
    "    #m = m.drop('ecoli_k12')\n",
    "    return m\n",
    "\n",
    "m = pivot_blast_results(bl)\n",
    "m"
   ]
  },
  {
   "cell_type": "code",
   "execution_count": 30,
   "metadata": {},
   "outputs": [
    {
     "data": {
      "image/png": "[encoded data removed]",
      "text/plain": [
       "<Figure size 720x360 with 3 Axes>"
      ]
     },
     "metadata": {
      "needs_background": "light"
     },
     "output_type": "display_data"
    }
   ],
   "source": [
    "def merge_info(x):\n",
    "    m=info[['id','stage']]\n",
    "    x=m.merge(x,right_index=True,left_on='id')\n",
    "    x=x.set_index(['stage','id'])\n",
    "    return x\n",
    "\n",
    "def plot_heatmap(m, fig=None):\n",
    "\n",
    "    from matplotlib.gridspec import GridSpec\n",
    "    l=3    \n",
    "    if fig == None:\n",
    "        fig = plt.figure()\n",
    "    else:\n",
    "        fig.clear()\n",
    "    gs = fig.add_gridspec(1, l)\n",
    "    chunks = np.array_split(m,l)\n",
    "    i=0\n",
    "    for df in chunks:\n",
    "        ax = fig.add_subplot(gs[0,i])      \n",
    "        im = ax.imshow(df)\n",
    "        ax.set_xticks(np.arange(len(df.T)))\n",
    "        ax.set_yticks(np.arange(len(df)))\n",
    "        ax.set_xticklabels(df.columns)\n",
    "        ax.set_yticklabels(df.index)\n",
    "        plt.setp(ax.get_xticklabels(), rotation=45, ha=\"right\",\n",
    "                 rotation_mode=\"anchor\")        \n",
    "        i+=1\n",
    "    plt.tight_layout()\n",
    "    return \n",
    "\n",
    "fig = plt.figure(figsize=(10,5))\n",
    "plot_heatmap(m.T, fig=fig)"
   ]
  },
  {
   "cell_type": "code",
   "execution_count": 16,
   "metadata": {},
   "outputs": [
    {
     "name": "stdout",
     "output_type": "stream",
     "text": [
      "blasting 2617 sequences\n",
      "blastn -out tempseq_blast.txt -outfmt \"6 qseqid sseqid qseq sseq pident qcovs length mismatch gapopen qstart qend sstart send evalue bitscore stitle\" -query tempseq.fa -db targets.fasta -evalue 0.1 -max_target_seqs 100 -num_threads 2\n",
      "gene      AAC(3)-IV  ANT(3'')-IIa  APH(3'')-Ib  APH(4)-Ia  APH(6)-Id     CRP  CTX-M-107  ...    mdtO    mdtP    msbA    pmrF   sul2   tolC    yojI\n",
      "id                                                                                       ...                                                      \n",
      "RF14A.fa        NaN           NaN          NaN        NaN        NaN  99.684     99.652  ...  97.076  97.273  98.685  98.246  100.0  98.32  97.749\n",
      "RF15A.fa        NaN        99.377       99.876        NaN     99.881     NaN        NaN  ...     NaN     NaN     NaN     NaN    NaN    NaN     NaN\n",
      "RF15B.fa      100.0        99.377       99.876      100.0     99.881     NaN        NaN  ...     NaN     NaN     NaN     NaN    NaN    NaN     NaN\n",
      "\n",
      "[3 rows x 57 columns]\n"
     ]
    },
    {
     "data": {
      "image/png": "[encoded data removed]",
      "text/plain": [
       "<Figure size 864x432 with 3 Axes>"
      ]
     },
     "metadata": {
      "needs_background": "light"
     },
     "output_type": "display_data"
    }
   ],
   "source": [
    "# run in sequence\n",
    "\n",
    "def run(filenames, db='card'):\n",
    "    \"\"\"Run pipeline\"\"\"\n",
    "    \n",
    "    fetch_sequence_db(db)\n",
    "    make_blast_database(filenames)\n",
    "    bl = find_genes('targets.fasta', db)\n",
    "    #find_gene_hits(bl, 'dfrA1_9', '../test_files/RF15B.fa', db)\n",
    "    bl.to_csv('%s_results.csv' %db)\n",
    "    m = pivot_blast_results(bl)\n",
    "    print (m)\n",
    "    plot_heatmap(m.T)\n",
    "    m.to_csv('%s_matrix.csv' %db)\n",
    "    return\n",
    "\n",
    "inpath = '../test_files/'\n",
    "filenames = glob.glob(os.path.join(inpath,'*.fa*'))\n",
    "#run(filenames, db='resfinder')\n",
    "run(filenames, db='card')"
   ]
  },
  {
   "cell_type": "code",
   "execution_count": 190,
   "metadata": {},
   "outputs": [
    {
     "name": "stdout",
     "output_type": "stream",
     "text": [
      "/local/abricate/bin/abricate ../test_files/RF15A.fa -db card --mincov 50 --minid 90 > temp.tab\n"
     ]
    }
   ],
   "source": [
    "def abricate(filename, db='card',id=None):\n",
    "    \n",
    "    cmd = '/local/abricate/bin/abricate %s -db %s --mincov 50 --minid 90 > temp.tab' %(filename,db)\n",
    "    print (cmd)\n",
    "    subprocess.check_output(cmd, shell=True, executable='/bin/bash')\n",
    "    df = pd.read_csv('temp.tab',sep='\\t')\n",
    "    id = os.path.basename(filename)\n",
    "    df['id'] = id\n",
    "    return df\n",
    "\n",
    "x = abricate('../test_files/RF15A.fa')"
   ]
  },
  {
   "cell_type": "code",
   "execution_count": 191,
   "metadata": {},
   "outputs": [
    {
     "name": "stdout",
     "output_type": "stream",
     "text": [
      "blasting 2617 sequences\n",
      "blastn -out tempseq_blast.txt -outfmt \"6 qseqid sseqid qseq sseq pident qcovs length mismatch gapopen qstart qend sstart send evalue bitscore stitle\" -query tempseq.fa -db targets.fasta -evalue 0.1 -max_target_seqs 100 -num_threads 2\n"
     ]
    }
   ],
   "source": [
    "make_blast_database(['../test_files/RF15A.fa'])\n",
    "y = find_genes('targets.fasta', 'card', coverage=50)"
   ]
  },
  {
   "cell_type": "code",
   "execution_count": 192,
   "metadata": {},
   "outputs": [
    {
     "name": "stdout",
     "output_type": "stream",
     "text": [
      "0    APH(3'')-Ib\n",
      "1      APH(6)-Id\n",
      "2          SAT-1\n",
      "3           aadA\n",
      "Name: GENE, dtype: object\n",
      "17          aadA21\n",
      "3      APH(3'')-Ib\n",
      "27           dfrA1\n",
      "9          Tet(X3)\n",
      "8            SAT-1\n",
      "7        APH(6)-Id\n",
      "15          aadA17\n",
      "19          aadA23\n",
      "2     ANT(3'')-IIa\n",
      "Name: gene, dtype: object\n"
     ]
    }
   ],
   "source": [
    "print (x.GENE)\n",
    "print (y.gene)"
   ]
  },
  {
   "cell_type": "code",
   "execution_count": null,
   "metadata": {},
   "outputs": [],
   "source": []
  }
 ],
 "metadata": {
  "kernelspec": {
   "display_name": "Python 3",
   "language": "python",
   "name": "python3"
  },
  "language_info": {
   "codemirror_mode": {
    "name": "ipython",
    "version": 3
   },
   "file_extension": ".py",
   "mimetype": "text/x-python",
   "name": "python",
   "nbconvert_exporter": "python",
   "pygments_lexer": "ipython3",
   "version": "3.7.5"
  }
 },
 "nbformat": 4,
 "nbformat_minor": 4
}
